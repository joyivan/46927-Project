{
 "cells": [
  {
   "cell_type": "markdown",
   "metadata": {},
   "source": [
    "# Experiment 1: Ridge Regression on Forest Fire dataset"
   ]
  },
  {
   "cell_type": "code",
   "execution_count": 61,
   "metadata": {},
   "outputs": [],
   "source": [
    "import numpy as np\n",
    "import pandas as pd\n",
    "from sklearn.model_selection import train_test_split\n",
    "import matplotlib.pyplot as plt\n",
    "%matplotlib inline\n",
    "plt.style.use('ggplot')\n",
    "import tensorflow as tf\n",
    "\n",
    "from data import Datafile, load_data\n",
    "from influence.emp_risk_optimizer import EmpiricalRiskOptimizer\n",
    "from influence.plot_utils import compare_with_loo\n",
    "from models.regularized_regression import RegularizedRegression\n",
    "#from models.hyperplane_clf import BinaryLogisticRegression\n",
    "#from models.hyperplane_clf import SmoothedSupportVector"
   ]
  },
  {
   "cell_type": "markdown",
   "metadata": {},
   "source": [
    "## Fit Model\n",
    "- Use `test_config=[a list of indices]` to evaluate only for some testing points. More testing points -> More unstable.\n",
    "- Use `leave_indices=[a list of indices]` to run LOO only for some training points.\n",
    "- traceback_checkpoint: A trainning step where the LOO can pick up. (mainly for speeding up)\n",
    "- loo_extra_iter: How many extra iterations does the LOO retrain.\n",
    "- decay_epochs: The number of epoch after which the learning rate is shrinked by a $10^-1$ multiplier.\n",
    "- batch_size: Size of a minibatch.\n",
    "- iter_to_switch_to_sgd: The training step after which the optimizer will switch (from adam) to sgd.\n",
    "- iter_to_switch_off_minibatch: The training step after which the optimizer will switch off minibatch feed_dict evaluation."
   ]
  },
  {
   "cell_type": "code",
   "execution_count": 2,
   "metadata": {},
   "outputs": [
    {
     "name": "stdout",
     "output_type": "stream",
     "text": [
      "X_train shape: (516, 29)\n",
      "y_train shape: (516, 1)\n",
      "X_test shape: (1, 29)\n",
      "y_test shape: (1, 1)\n"
     ]
    },
    {
     "name": "stderr",
     "output_type": "stream",
     "text": [
      "/Users/zed/anaconda/lib/python3.6/site-packages/sklearn/utils/validation.py:429: DataConversionWarning: Data with input dtype object was converted to float64 by StandardScaler.\n",
      "  warnings.warn(msg, _DataConversionWarning)\n"
     ]
    }
   ],
   "source": [
    "from sklearn.preprocessing import StandardScaler\n",
    "X_train, X_test, y_train, y_test, test_indices = load_data(\n",
    "    Datafile.ForestFire, test_config=[42])\n",
    "n_tr, p = X_train.shape\n",
    "n_te, _ = X_test.shape\n",
    "scl_x = StandardScaler()\n",
    "scl_y = StandardScaler()\n",
    "X_train = scl_x.fit_transform(X_train)\n",
    "y_train = scl_y.fit_transform(y_train)\n",
    "X_test = scl_x.transform(X_test)\n",
    "y_test = scl_y.transform(y_test)\n",
    "\n",
    "\n",
    "init_eta = 0.01\n",
    "batch_size = 100\n",
    "C = 1.0\n",
    "train_iter = 50000\n",
    "traceback_checkpoint = 50000\n",
    "loo_extra_iter = 5000\n",
    "decay_epochs = (5000, 8000)\n",
    "checkpoint_iter = traceback_checkpoint-1\n",
    "iter_to_switch_to_sgd = np.inf\n",
    "iter_to_switch_off_minibatch = 20000\n",
    "\n",
    "np.random.seed(0)\n",
    "leave_indices = None\n",
    "\n",
    "if type(test_indices) is list:\n",
    "    assert not set(test_indices) & set(leave_indices)\n",
    "    print(\"Test Indices:\", test_indices)\n",
    "    print(\"Leave Indices:\", leave_indices)\n",
    "    # if assertion error, re-evaluate cell"
   ]
  },
  {
   "cell_type": "code",
   "execution_count": 3,
   "metadata": {
    "collapsed": true
   },
   "outputs": [],
   "source": [
    "tf.reset_default_graph()\n",
    "model = RegularizedRegression(\n",
    "    model_name='RidgeRegression-Notebook',\n",
    "    init_eta=init_eta,\n",
    "    decay_epochs=decay_epochs,\n",
    "    batch_size=batch_size,\n",
    "    C=C\n",
    ")"
   ]
  },
  {
   "cell_type": "code",
   "execution_count": null,
   "metadata": {
    "collapsed": true
   },
   "outputs": [],
   "source": [
    "model.fit(\n",
    "    X_train, y_train,\n",
    "    n_iter=train_iter,\n",
    "    verbose=1,\n",
    "    iter_to_switch_off_minibatch=iter_to_switch_off_minibatch,\n",
    "    iter_to_switch_to_sgd=iter_to_switch_to_sgd,\n",
    "    traceback_checkpoint=traceback_checkpoint\n",
    ")"
   ]
  },
  {
   "cell_type": "code",
   "execution_count": 4,
   "metadata": {},
   "outputs": [
    {
     "name": "stdout",
     "output_type": "stream",
     "text": [
      "\n",
      "Model Evaluations:\n",
      "------------------------------------------\n",
      "Empirical Risk: 0.955123\n",
      "Norm of Params: 0.639570\n",
      "Norm of Gradient: 0.000000\n"
     ]
    },
    {
     "data": {
      "text/plain": [
       "RidgeRegression-Notebook(init_eta=0.01,batch_size=100,decay_epochs=(5000, 8000),C=1.0)"
      ]
     },
     "execution_count": 4,
     "metadata": {},
     "output_type": "execute_result"
    }
   ],
   "source": [
    "model.fit_with_sklearn(\n",
    "    {'X': X_train, 'y': y_train}\n",
    ")"
   ]
  },
  {
   "cell_type": "markdown",
   "metadata": {},
   "source": [
    "## Evaluate I_loss"
   ]
  },
  {
   "cell_type": "code",
   "execution_count": 5,
   "metadata": {},
   "outputs": [
    {
     "name": "stdout",
     "output_type": "stream",
     "text": [
      "Fetch training loss gradients (0.222 sec)\n"
     ]
    }
   ],
   "source": [
    "I_loss_bf = model.influence_loss(\n",
    "    X_test, y_test,\n",
    "    method='brute-force'\n",
    ")"
   ]
  },
  {
   "cell_type": "code",
   "execution_count": 6,
   "metadata": {},
   "outputs": [
    {
     "name": "stdout",
     "output_type": "stream",
     "text": [
      "Fetch training loss gradients (0.237 sec)\n",
      "CG Objective: -0.06331402\n",
      "CG Objective: -0.12859355\n",
      "CG Objective: -0.14935851\n",
      "CG Objective: -0.16713324\n",
      "CG Objective: -0.16921687\n",
      "CG Objective: -0.1695863\n",
      "CG Objective: -0.16958743\n",
      "Warning: Desired error not necessarily achieved due to precision loss.\n",
      "         Current function value: -0.169587\n",
      "         Iterations: 7\n",
      "         Function evaluations: 25\n",
      "         Gradient evaluations: 20\n",
      "         Hessian evaluations: 46\n"
     ]
    }
   ],
   "source": [
    "I_loss_cg = model.influence_loss(\n",
    "    X_test, y_test,\n",
    "    method='cg',\n",
    "    cg_verbose=False\n",
    ")"
   ]
  },
  {
   "cell_type": "code",
   "execution_count": 49,
   "metadata": {},
   "outputs": [
    {
     "name": "stdout",
     "output_type": "stream",
     "text": [
      "Fetch training loss gradients (0.235 sec)\n",
      "--- Lissa Sample 0 ---\n",
      "Recursion depth: 0, hvp norm: 1.6361844539642334\n",
      "Recursion depth: 50, hvp norm: 35.876102447509766\n",
      "Recursion depth: 100, hvp norm: 60.7891960144043\n",
      "Recursion depth: 150, hvp norm: 79.58319854736328\n",
      "Recursion depth: 200, hvp norm: 94.12757873535156\n",
      "Recursion depth: 250, hvp norm: 105.61933898925781\n",
      "Recursion depth: 300, hvp norm: 114.86676788330078\n",
      "Recursion depth: 350, hvp norm: 122.43425750732422\n",
      "Recursion depth: 400, hvp norm: 128.72555541992188\n",
      "Recursion depth: 450, hvp norm: 134.0350799560547\n",
      "Recursion depth: 500, hvp norm: 138.5811767578125\n",
      "Recursion depth: 550, hvp norm: 142.52780151367188\n",
      "Recursion depth: 600, hvp norm: 145.99972534179688\n",
      "Recursion depth: 650, hvp norm: 149.09278869628906\n",
      "Recursion depth: 700, hvp norm: 151.88116455078125\n",
      "Recursion depth: 750, hvp norm: 154.42279052734375\n",
      "Recursion depth: 800, hvp norm: 156.7632293701172\n",
      "Recursion depth: 850, hvp norm: 158.93844604492188\n",
      "Recursion depth: 900, hvp norm: 160.9770050048828\n",
      "Recursion depth: 950, hvp norm: 162.9017791748047\n",
      "Recursion depth: 1000, hvp norm: 164.73101806640625\n",
      "Recursion depth: 1050, hvp norm: 166.47952270507812\n",
      "Recursion depth: 1100, hvp norm: 168.1592254638672\n",
      "Recursion depth: 1150, hvp norm: 169.77981567382812\n",
      "Recursion depth: 1200, hvp norm: 171.34922790527344\n",
      "Recursion depth: 1250, hvp norm: 172.87396240234375\n",
      "Recursion depth: 1300, hvp norm: 174.35939025878906\n",
      "Recursion depth: 1350, hvp norm: 175.8099365234375\n",
      "Recursion depth: 1400, hvp norm: 177.22933959960938\n",
      "Recursion depth: 1450, hvp norm: 178.62066650390625\n",
      "Recursion depth: 1500, hvp norm: 179.986572265625\n",
      "Recursion depth: 1550, hvp norm: 181.32925415039062\n",
      "Recursion depth: 1600, hvp norm: 182.65061950683594\n",
      "Recursion depth: 1650, hvp norm: 183.95236206054688\n",
      "Recursion depth: 1700, hvp norm: 185.2357940673828\n",
      "Recursion depth: 1750, hvp norm: 186.5022735595703\n",
      "Recursion depth: 1800, hvp norm: 187.75274658203125\n",
      "Recursion depth: 1850, hvp norm: 188.9882354736328\n",
      "Recursion depth: 1900, hvp norm: 190.2095489501953\n",
      "Recursion depth: 1950, hvp norm: 191.4174346923828\n",
      "Fetch training loss gradients (0.233 sec)\n",
      "--- Lissa Sample 0 ---\n",
      "Recursion depth: 0, hvp norm: 1.6389274597167969\n",
      "Recursion depth: 1000, hvp norm: 147.6641082763672\n"
     ]
    }
   ],
   "source": [
    "I_loss_lissa_deep = model.influence_loss(\n",
    "    X_test, y_test,\n",
    "    method='lissa',\n",
    "    batch_size=516,\n",
    "    repeat=1,\n",
    "    depth=2000,\n",
    "    scale=4e2,\n",
    "    verbose=50,\n",
    "    damping=0.000\n",
    ")\n",
    "I_loss_lissa_shallow = model.influence_loss(\n",
    "    X_test, y_test,\n",
    "    method='lissa',\n",
    "    batch_size=1,\n",
    "    repeat=1,\n",
    "    depth=2000,\n",
    "    scale=4e2,\n",
    "    verbose=1000,\n",
    "    damping=0.000\n",
    ")"
   ]
  },
  {
   "cell_type": "markdown",
   "metadata": {},
   "source": [
    "## Run LOO"
   ]
  },
  {
   "cell_type": "code",
   "execution_count": 9,
   "metadata": {},
   "outputs": [
    {
     "name": "stdout",
     "output_type": "stream",
     "text": [
      "LOO Fold 0: loss = 0.95696384 (0.002 sec)\n",
      "LOO Fold 51: loss = 0.95697600 (0.003 sec)\n",
      "LOO Fold 102: loss = 0.95612925 (0.002 sec)\n",
      "LOO Fold 153: loss = 0.95614237 (0.002 sec)\n",
      "LOO Fold 204: loss = 0.95690691 (0.002 sec)\n",
      "LOO Fold 255: loss = 0.95670325 (0.002 sec)\n",
      "LOO Fold 306: loss = 0.95691359 (0.002 sec)\n",
      "LOO Fold 357: loss = 0.95695800 (0.002 sec)\n",
      "LOO Fold 408: loss = 0.95695680 (0.002 sec)\n",
      "LOO Fold 459: loss = 0.95674777 (0.003 sec)\n",
      "LOO Fold 510: loss = 0.95694047 (0.002 sec)\n"
     ]
    }
   ],
   "source": [
    "loo_diff = model.leave_one_out_refit(\n",
    "    X_test, y_test,\n",
    "    n_iter=loo_extra_iter,\n",
    "    iter_to_load=checkpoint_iter,\n",
    "    leave_indices=leave_indices,\n",
    "    sklearn_refit=True\n",
    ")"
   ]
  },
  {
   "cell_type": "code",
   "execution_count": null,
   "metadata": {
    "collapsed": true
   },
   "outputs": [],
   "source": [
    "\"\"\"\n",
    "for m in range(n_methods):\n",
    "    for j in range(n_te):\n",
    "        axes[0, m].plot(\n",
    "            influences[m][:, j]/n_samples,\n",
    "            loo_diff[:, j], 'o', color='black')\n",
    "        axes[1, m].plot(\n",
    "            influences[m][:, j]/n_samples,\n",
    "            loo_diff[:, j] + j, 'o')\n",
    "\n",
    "    axes[0, m].update({\n",
    "        'title': 'Influence {} V.S. Numerical LOO'.format(method_names[m]),\n",
    "        'xlabel': 'Influence I_loss/-n',\n",
    "        'ylabel': 'Numerical LOO'\n",
    "        # 'xlim': (-frame_trunc, frame_trunc),\n",
    "        # 'ylim': (-frame_trunc, frame_trunc)\n",
    "    })\n",
    "\n",
    "    axes[1, m].update({\n",
    "        'title': 'Colored & Translated by different Validation Points',\n",
    "        'yticks': []})\n",
    "return fig, axes\n",
    "\"\"\""
   ]
  },
  {
   "cell_type": "code",
   "execution_count": 171,
   "metadata": {
    "collapsed": true
   },
   "outputs": [],
   "source": [
    "import seaborn as sns"
   ]
  },
  {
   "cell_type": "code",
   "execution_count": 62,
   "metadata": {},
   "outputs": [
    {
     "data": {
      "image/png": "[encoded data removed]",
      "text/plain": [
       "<matplotlib.figure.Figure at 0x128a0cb70>"
      ]
     },
     "metadata": {},
     "output_type": "display_data"
    }
   ],
   "source": [
    "frame_trunc = 0.01\n",
    "fig, axes = plt.subplots(\n",
    "    1, 4, figsize=(17, 4), sharex='all', sharey='all')\n",
    "# frame_trunc = np.percentile(loo_diff, trunc)\n",
    "fontsize = 16\n",
    "axes[0].plot(\n",
    "    [-frame_trunc, frame_trunc],\n",
    "    [-frame_trunc,frame_trunc], '--', color='black'\n",
    ")\n",
    "axes[0].plot(\n",
    "    loo_diff[:, :], \n",
    "    I_loss_bf[:, :] / n_tr, 'o', markersize=10\n",
    ")\n",
    "axes[1].plot(\n",
    "    [-frame_trunc, frame_trunc],\n",
    "    [-frame_trunc,frame_trunc], '--', color='black'\n",
    ")\n",
    "axes[1].plot(\n",
    "    loo_diff[:, :],\n",
    "    I_loss_cg[:, :] / n_tr, 'o', markersize=10\n",
    ")\n",
    "axes[2].plot(\n",
    "    [-frame_trunc, frame_trunc],\n",
    "    [-frame_trunc,frame_trunc], '--', color='black'\n",
    ")\n",
    "axes[2].plot(\n",
    "    loo_diff[:, :], \n",
    "    I_loss_lissa_deep[:, :] / n_tr, 'o', markersize=10\n",
    ")\n",
    "axes[3].plot(\n",
    "    [-frame_trunc, frame_trunc],\n",
    "    [-frame_trunc,frame_trunc], '--', color='black'\n",
    ")\n",
    "axes[3].plot(\n",
    "    loo_diff[:, :], \n",
    "    I_loss_lissa_shallow[:, :] / n_tr, 'o', markersize=10\n",
    ")\n",
    "\n",
    "axes[0].update({\n",
    "    'title': 'Influence 1 V.S. Numerical LOO',\n",
    "    'xlabel': 'Influence I_loss/-n',\n",
    "    'ylabel': 'Numerical LOO',\n",
    "    'xlim': (-frame_trunc, frame_trunc),\n",
    "    'ylim': (-frame_trunc, frame_trunc),\n",
    "    'xticks':[-0.008, -0.004, 0, 0.004, 0.008],\n",
    "    'yticks':[-0.008, -0.004, 0, 0.004, 0.008],\n",
    "})\n",
    "axes[1].set_xlim((-frame_trunc, frame_trunc))\n",
    "axes[2].set_xlim((-frame_trunc, frame_trunc))\n",
    "#axes[1].set_xticks([-150, -75, 0, 75, 150])\n",
    "#axes[2].set_xticks([-150, -75, 0, 75, 150])\n",
    "axes[0].set_xlabel('LOO Difference in Loss', fontsize=fontsize)\n",
    "axes[1].set_xlabel('LOO Difference in Loss', fontsize=fontsize)\n",
    "axes[2].set_xlabel('LOO Difference in Loss', fontsize=fontsize)\n",
    "axes[3].set_xlabel('LOO Difference in Loss', fontsize=fontsize)\n",
    "axes[0].set_ylabel(r'$-\\mathcal{I}_{Loss} / n$', fontsize=fontsize)\n",
    "axes[0].set_title('Explicit Hessian Inverse', fontsize=fontsize)\n",
    "axes[1].set_title('Conjugate Gradient', fontsize=fontsize)\n",
    "axes[2].set_title(r'LiSSA (full $\\widehat{H}$)', fontsize=fontsize)\n",
    "axes[3].set_title('LiSSA', fontsize=fontsize)\n",
    "\n",
    "\n",
    "plt.savefig('tex/report/fig-ridge.eps', dpi=600, bbox_inches='tight')"
   ]
  },
  {
   "cell_type": "code",
   "execution_count": 253,
   "metadata": {},
   "outputs": [
    {
     "data": {
      "text/plain": [
       "array([[  6. ,   5. ,  85.1,  28. , 113.8,   3.5,  11.3,  94. ,   4.9,\n",
       "          0. ,   0. ,   0. ,   0. ,   0. ,   0. ,   0. ,   0. ,   0. ,\n",
       "          1. ,   0. ,   0. ,   0. ,   0. ,   0. ,   1. ,   0. ,   0. ,\n",
       "          0. ,   0. ]])"
      ]
     },
     "execution_count": 253,
     "metadata": {},
     "output_type": "execute_result"
    }
   ],
   "source": []
  },
  {
   "cell_type": "code",
   "execution_count": 183,
   "metadata": {},
   "outputs": [
    {
     "data": {
      "text/plain": [
       "(-200, 200)"
      ]
     },
     "execution_count": 183,
     "metadata": {},
     "output_type": "execute_result"
    },
    {
     "data": {
      "image/png": "[encoded data removed]",
      "text/plain": [
       "<matplotlib.figure.Figure at 0x134bf3940>"
      ]
     },
     "metadata": {},
     "output_type": "display_data"
    }
   ],
   "source": [
    "fig, ax = plt.subplots(\n",
    "    1, 1, figsize=(4, 4))\n",
    "sns.distplot(I_loss_bf[:, :].reshape(len(I_loss_cg),)/n_tr, \n",
    "             vertical=True, ax=ax)\n",
    "ax.set_ylim((-200, 200))"
   ]
  },
  {
   "cell_type": "code",
   "execution_count": 21,
   "metadata": {},
   "outputs": [
    {
     "data": {
      "image/png": "[encoded data removed]",
      "text/plain": [
       "<matplotlib.figure.Figure at 0x12ab72278>"
      ]
     },
     "metadata": {},
     "output_type": "display_data"
    }
   ],
   "source": [
    "_ = compare_with_loo(\n",
    "    [I_loss_bf[leave_indices,0:1], \n",
    "     I_loss_cg[leave_indices,0:1]], loo_diff, n_samples=n_tr)"
   ]
  },
  {
   "cell_type": "code",
   "execution_count": 10,
   "metadata": {},
   "outputs": [
    {
     "name": "stdout",
     "output_type": "stream",
     "text": [
      "Test Point 0 Correlation: 0.9215\n",
      "Test Point 1 Correlation: 0.8930\n",
      "Test Point 2 Correlation: 0.8603\n",
      "Overall Correlation: 0.8946\n"
     ]
    }
   ],
   "source": [
    "a, b = loo_diff.shape\n",
    "for j in range(n_te):\n",
    "    print(\"Test Point %d Correlation: %.4f\" % (j, np.corrcoef(\n",
    "        I_loss_bf[leave_indices, j], loo_diff[:, j])[0][1]))\n",
    "print(\"Overall Correlation: %.4f\" % np.corrcoef(\n",
    "        I_loss_bf[leave_indices, :].reshape(a*b,),\n",
    "        loo_diff.reshape(a*b,))[0][1])"
   ]
  },
  {
   "cell_type": "code",
   "execution_count": null,
   "metadata": {
    "collapsed": true
   },
   "outputs": [],
   "source": []
  }
 ],
 "metadata": {
  "kernelspec": {
   "display_name": "Python 3",
   "language": "python",
   "name": "python3"
  },
  "language_info": {
   "codemirror_mode": {
    "name": "ipython",
    "version": 3
   },
   "file_extension": ".py",
   "mimetype": "text/x-python",
   "name": "python",
   "nbconvert_exporter": "python",
   "pygments_lexer": "ipython3",
   "version": "3.6.4"
  }
 },
 "nbformat": 4,
 "nbformat_minor": 2
}
