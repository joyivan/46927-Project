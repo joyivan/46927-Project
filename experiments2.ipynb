{
 "cells": [
  {
   "cell_type": "markdown",
   "metadata": {},
   "source": [
    "# Experiment 2-1: Binary Logistic Regression on Iris Dataset"
   ]
  },
  {
   "cell_type": "code",
   "execution_count": 2,
   "metadata": {},
   "outputs": [],
   "source": [
    "import numpy as np\n",
    "import pandas as pd\n",
    "from sklearn.model_selection import train_test_split\n",
    "import matplotlib.pyplot as plt\n",
    "%matplotlib inline\n",
    "import tensorflow as tf\n",
    "\n",
    "from data import Datafile, load_data\n",
    "from influence.emp_risk_optimizer import EmpiricalRiskOptimizer\n",
    "from influence.plot_utils import compare_with_loo\n",
    "from influence.closed_forms import I_loss_RidgeCf\n",
    "from models.regularized_regression import RegularizedRegression\n",
    "from models.hyperplane_clf import BinaryLogisticRegression\n",
    "#from models.hyperplane_clf import SmoothedSupportVector"
   ]
  },
  {
   "cell_type": "code",
   "execution_count": 4,
   "metadata": {},
   "outputs": [
    {
     "name": "stdout",
     "output_type": "stream",
     "text": [
      "80 4\n"
     ]
    }
   ],
   "source": [
    "X_train, X_test, y_train, y_test, test_indices = load_data(\n",
    "    Datafile.Iris, test_config=0.2)\n",
    "n_tr, p = X_train.shape\n",
    "n_te, _ = X_test.shape\n",
    "print(n_tr, p)\n",
    "\n",
    "init_eta = 1e-1\n",
    "batch_size = 30\n",
    "train_iter = 50000\n",
    "traceback_checkpoint = 45000\n",
    "loo_extra_iter = 5000\n",
    "decay_epochs = (10000, 20000)\n",
    "checkpoint_iter = traceback_checkpoint-1\n",
    "iter_to_switch_off_minibatch=35000\n",
    "iter_to_switch_to_sgd=np.inf\n",
    "# LOO a on random set of training indices, otherwise too slow\n",
    "leave_indices = None\n",
    "\n",
    "if hasattr(test_indices, '__iter__') and hasattr(leave_indices, '__iter__'):\n",
    "    assert not set(test_indices) & set(leave_indices)\n",
    "    print(test_indices)\n",
    "    print(leave_indices)"
   ]
  },
  {
   "cell_type": "markdown",
   "metadata": {},
   "source": [
    "## Fit Model"
   ]
  },
  {
   "cell_type": "code",
   "execution_count": 5,
   "metadata": {},
   "outputs": [],
   "source": [
    "model = BinaryLogisticRegression(\n",
    "    model_name='BinaryLogistic-Notebook',\n",
    "    init_eta=init_eta,\n",
    "    decay_epochs=decay_epochs,\n",
    "    batch_size=batch_size,\n",
    "    C=1.0\n",
    ")"
   ]
  },
  {
   "cell_type": "code",
   "execution_count": 15,
   "metadata": {},
   "outputs": [
    {
     "name": "stdout",
     "output_type": "stream",
     "text": [
      "Step 0, Epoch 0: loss = 0.65617335 (0.048 sec)\n",
      "Step 1000, Epoch 375: loss = 0.04787267 (0.001 sec)\n",
      "Step 2000, Epoch 750: loss = 0.02834478 (0.001 sec)\n",
      "Step 3000, Epoch 1125: loss = 0.02570353 (0.001 sec)\n",
      "Step 4000, Epoch 1500: loss = 0.01754167 (0.001 sec)\n",
      "Step 5000, Epoch 1875: loss = 0.01529602 (0.001 sec)\n",
      "Step 6000, Epoch 2250: loss = 0.01410864 (0.001 sec)\n",
      "Step 7000, Epoch 2625: loss = 0.03226178 (0.001 sec)\n",
      "Step 8000, Epoch 3000: loss = 0.01363071 (0.001 sec)\n",
      "Step 9000, Epoch 3375: loss = 0.02662032 (0.001 sec)\n",
      "Step 10000, Epoch 3750: loss = 0.00584569 (0.001 sec)\n",
      "Step 11000, Epoch 4125: loss = 0.01076576 (0.001 sec)\n",
      "Step 12000, Epoch 4500: loss = 0.01134654 (0.001 sec)\n",
      "Step 13000, Epoch 4875: loss = 0.03102768 (0.002 sec)\n",
      "Step 14000, Epoch 5250: loss = 0.02361450 (0.001 sec)\n",
      "Step 15000, Epoch 5625: loss = 0.02707568 (0.001 sec)\n",
      "Step 16000, Epoch 6000: loss = 0.01384364 (0.001 sec)\n",
      "Step 17000, Epoch 6375: loss = 0.02733575 (0.001 sec)\n",
      "Step 18000, Epoch 6750: loss = 0.01858595 (0.001 sec)\n",
      "Step 19000, Epoch 7125: loss = 0.04096319 (0.001 sec)\n",
      "Step 20000, Epoch 7500: loss = 0.01619375 (0.001 sec)\n",
      "Step 21000, Epoch 7875: loss = 0.01132448 (0.001 sec)\n",
      "Step 22000, Epoch 8250: loss = 0.01349319 (0.001 sec)\n",
      "Step 23000, Epoch 8625: loss = 0.01320578 (0.001 sec)\n",
      "Step 24000, Epoch 9000: loss = 0.01694051 (0.001 sec)\n",
      "Step 25000, Epoch 9375: loss = 0.02728189 (0.001 sec)\n",
      "Step 26000, Epoch 9750: loss = 0.00622845 (0.001 sec)\n",
      "Step 27000, Epoch 10125: loss = 0.03116313 (0.001 sec)\n",
      "Step 28000, Epoch 10500: loss = 0.02799918 (0.001 sec)\n",
      "Step 29000, Epoch 10875: loss = 0.03811572 (0.001 sec)\n",
      "Step 30000, Epoch 11250: loss = 0.02982091 (0.001 sec)\n",
      "Step 31000, Epoch 11625: loss = 0.02474144 (0.004 sec)\n",
      "Step 32000, Epoch 12000: loss = 0.01162615 (0.001 sec)\n",
      "Step 33000, Epoch 12375: loss = 0.01655222 (0.001 sec)\n",
      "Step 34000, Epoch 12750: loss = 0.02578015 (0.001 sec)\n",
      "Step 35000, Epoch 13125: loss = 0.02181726 (0.001 sec)\n",
      "Step 36000, Epoch 13500: loss = 0.02177198 (0.001 sec)\n",
      "Step 37000, Epoch 13875: loss = 0.02170022 (0.001 sec)\n",
      "Step 38000, Epoch 14250: loss = 0.02158322 (0.001 sec)\n",
      "Step 39000, Epoch 14625: loss = 0.02139427 (0.001 sec)\n",
      "Step 40000, Epoch 15000: loss = 0.02109371 (0.001 sec)\n",
      "Step 41000, Epoch 15375: loss = 0.02062857 (0.001 sec)\n",
      "Step 42000, Epoch 15750: loss = 0.01994432 (0.003 sec)\n",
      "Step 43000, Epoch 16125: loss = 0.01901776 (0.001 sec)\n",
      "Step 44000, Epoch 16500: loss = 0.01789616 (0.001 sec)\n",
      "Step 45000, Epoch 16875: loss = 0.01668541 (0.001 sec)\n",
      "Step 46000, Epoch 17250: loss = 0.01548409 (0.001 sec)\n",
      "Step 47000, Epoch 17625: loss = 0.01434547 (0.001 sec)\n",
      "Step 48000, Epoch 18000: loss = 0.01328691 (0.001 sec)\n",
      "Step 49000, Epoch 18375: loss = 0.01230925 (0.001 sec)\n",
      "\n",
      "Model Evaluations:\n",
      "------------------------------------------\n",
      "Empirical Risk: 0.011407\n",
      "Norm of Params: 39.561176\n",
      "Norm of Gradient: 0.000661\n"
     ]
    },
    {
     "data": {
      "text/plain": [
       "BinaryLogistic-Notebook(init_eta=0.1,batch_size=30,decay_epochs=(2000, 4000),C=1.0)"
      ]
     },
     "execution_count": 15,
     "metadata": {},
     "output_type": "execute_result"
    }
   ],
   "source": [
    "tf.reset_default_graph()\n",
    "model = BinaryLogisticRegression(\n",
    "    model_name='BinaryLogistic-Notebook',\n",
    "    init_eta=init_eta,\n",
    "    decay_epochs=decay_epochs,\n",
    "    batch_size=batch_size,\n",
    "    C=1.0\n",
    ")\n",
    "\n",
    "model.fit(\n",
    "    X_train, y_train,\n",
    "    n_iter=train_iter,\n",
    "    verbose=1,\n",
    "    iter_to_switch_off_minibatch=iter_to_switch_off_minibatch,\n",
    "    iter_to_switch_to_sgd=iter_to_switch_to_sgd,\n",
    "    traceback_checkpoint=traceback_checkpoint\n",
    ")"
   ]
  },
  {
   "cell_type": "markdown",
   "metadata": {},
   "source": [
    "## Fit with Skearn"
   ]
  },
  {
   "cell_type": "code",
   "execution_count": 6,
   "metadata": {},
   "outputs": [
    {
     "name": "stdout",
     "output_type": "stream",
     "text": [
      "\n",
      "Model Evaluations:\n",
      "------------------------------------------\n",
      "Empirical Risk: 0.422830\n",
      "Norm of Params: 4.106604\n",
      "Norm of Gradient: 0.051333\n"
     ]
    },
    {
     "data": {
      "text/plain": [
       "BinaryLogistic-Notebook(init_eta=0.1,batch_size=30,decay_epochs=(10000, 20000),C=1.0)"
      ]
     },
     "execution_count": 6,
     "metadata": {},
     "output_type": "execute_result"
    }
   ],
   "source": [
    "tf.reset_default_graph()\n",
    "model.fit_with_sklearn({'X':X_train, 'y':y_train})"
   ]
  },
  {
   "cell_type": "code",
   "execution_count": 7,
   "metadata": {},
   "outputs": [
    {
     "data": {
      "text/plain": [
       "array([[ 1.5956767],\n",
       "       [ 1.8466895],\n",
       "       [-2.3730352],\n",
       "       [-2.2970529]], dtype=float32)"
      ]
     },
     "execution_count": 7,
     "metadata": {},
     "output_type": "execute_result"
    }
   ],
   "source": [
    "model.get_eval(items=['params_flat'])"
   ]
  },
  {
   "cell_type": "markdown",
   "metadata": {},
   "source": [
    "## Predicitons (Not Important)"
   ]
  },
  {
   "cell_type": "code",
   "execution_count": 8,
   "metadata": {},
   "outputs": [
    {
     "name": "stdout",
     "output_type": "stream",
     "text": [
      "Train accuracy: 0.9875\n",
      "Test accuracy: 0.85\n"
     ]
    }
   ],
   "source": [
    "y_pred = model.predict(X_train)\n",
    "print(\"Train accuracy:\", np.sum(y_pred == y_train)/n_tr)\n",
    "\n",
    "y_pred_test = model.predict(X_test)\n",
    "print(\"Test accuracy:\", np.sum(y_pred_test == y_test)/n_te)"
   ]
  },
  {
   "cell_type": "markdown",
   "metadata": {},
   "source": [
    "## Calculate I_loss"
   ]
  },
  {
   "cell_type": "code",
   "execution_count": 9,
   "metadata": {},
   "outputs": [
    {
     "name": "stdout",
     "output_type": "stream",
     "text": [
      "Fetch training loss gradients (0.102 sec)\n"
     ]
    }
   ],
   "source": [
    "I_loss_bf = model.influence_loss(\n",
    "    X_test, y_test,\n",
    "    method='brute-force',\n",
    ")\n",
    "# I_loss_bf[leave_indices,:]/n_tr"
   ]
  },
  {
   "cell_type": "code",
   "execution_count": 10,
   "metadata": {},
   "outputs": [
    {
     "name": "stdout",
     "output_type": "stream",
     "text": [
      "Fetch training loss gradients (0.036 sec)\n",
      "Warning: Desired error not necessarily achieved due to precision loss.\n",
      "         Current function value: -0.956071\n",
      "         Iterations: 6\n",
      "         Function evaluations: 20\n",
      "         Gradient evaluations: 25\n",
      "         Hessian evaluations: 17\n",
      "Warning: Desired error not necessarily achieved due to precision loss.\n",
      "         Current function value: -0.107540\n",
      "         Iterations: 5\n",
      "         Function evaluations: 98\n",
      "         Gradient evaluations: 93\n",
      "         Hessian evaluations: 13\n",
      "Warning: Desired error not necessarily achieved due to precision loss.\n",
      "         Current function value: -0.120165\n",
      "         Iterations: 4\n",
      "         Function evaluations: 65\n",
      "         Gradient evaluations: 58\n",
      "         Hessian evaluations: 13\n",
      "Warning: Desired error not necessarily achieved due to precision loss.\n",
      "         Current function value: -0.074743\n",
      "         Iterations: 5\n",
      "         Function evaluations: 93\n",
      "         Gradient evaluations: 87\n",
      "         Hessian evaluations: 15\n",
      "Optimization terminated successfully.\n",
      "         Current function value: -0.227125\n",
      "         Iterations: 6\n",
      "         Function evaluations: 35\n",
      "         Gradient evaluations: 40\n",
      "         Hessian evaluations: 17\n",
      "Warning: Desired error not necessarily achieved due to precision loss.\n",
      "         Current function value: -0.254381\n",
      "         Iterations: 4\n",
      "         Function evaluations: 84\n",
      "         Gradient evaluations: 76\n",
      "         Hessian evaluations: 11\n",
      "Warning: Desired error not necessarily achieved due to precision loss.\n",
      "         Current function value: -2.495437\n",
      "         Iterations: 7\n",
      "         Function evaluations: 94\n",
      "         Gradient evaluations: 89\n",
      "         Hessian evaluations: 22\n",
      "Warning: Desired error not necessarily achieved due to precision loss.\n",
      "         Current function value: -0.206135\n",
      "         Iterations: 5\n",
      "         Function evaluations: 77\n",
      "         Gradient evaluations: 70\n",
      "         Hessian evaluations: 15\n",
      "Warning: Desired error not necessarily achieved due to precision loss.\n",
      "         Current function value: -0.294806\n",
      "         Iterations: 3\n",
      "         Function evaluations: 77\n",
      "         Gradient evaluations: 69\n",
      "         Hessian evaluations: 11\n",
      "Warning: Desired error not necessarily achieved due to precision loss.\n",
      "         Current function value: -0.061385\n",
      "         Iterations: 5\n",
      "         Function evaluations: 86\n",
      "         Gradient evaluations: 79\n",
      "         Hessian evaluations: 17\n",
      "Warning: Desired error not necessarily achieved due to precision loss.\n",
      "         Current function value: -2.986375\n",
      "         Iterations: 5\n",
      "         Function evaluations: 65\n",
      "         Gradient evaluations: 58\n",
      "         Hessian evaluations: 15\n",
      "Warning: Desired error not necessarily achieved due to precision loss.\n",
      "         Current function value: -0.106067\n",
      "         Iterations: 5\n",
      "         Function evaluations: 84\n",
      "         Gradient evaluations: 79\n",
      "         Hessian evaluations: 15\n",
      "Warning: Desired error not necessarily achieved due to precision loss.\n",
      "         Current function value: -0.505056\n",
      "         Iterations: 7\n",
      "         Function evaluations: 116\n",
      "         Gradient evaluations: 112\n",
      "         Hessian evaluations: 21\n",
      "Warning: Desired error not necessarily achieved due to precision loss.\n",
      "         Current function value: -3.651144\n",
      "         Iterations: 8\n",
      "         Function evaluations: 27\n",
      "         Gradient evaluations: 34\n",
      "         Hessian evaluations: 23\n",
      "Optimization terminated successfully.\n",
      "         Current function value: -0.080201\n",
      "         Iterations: 5\n",
      "         Function evaluations: 6\n",
      "         Gradient evaluations: 10\n",
      "         Hessian evaluations: 12\n",
      "Warning: Desired error not necessarily achieved due to precision loss.\n",
      "         Current function value: -0.294708\n",
      "         Iterations: 3\n",
      "         Function evaluations: 71\n",
      "         Gradient evaluations: 62\n",
      "         Hessian evaluations: 11\n",
      "Warning: Desired error not necessarily achieved due to precision loss.\n",
      "         Current function value: -0.660492\n",
      "         Iterations: 3\n",
      "         Function evaluations: 59\n",
      "         Gradient evaluations: 50\n",
      "         Hessian evaluations: 9\n",
      "Warning: Desired error not necessarily achieved due to precision loss.\n",
      "         Current function value: -0.656729\n",
      "         Iterations: 5\n",
      "         Function evaluations: 149\n",
      "         Gradient evaluations: 140\n",
      "         Hessian evaluations: 18\n",
      "Warning: Desired error not necessarily achieved due to precision loss.\n",
      "         Current function value: -0.203163\n",
      "         Iterations: 4\n",
      "         Function evaluations: 73\n",
      "         Gradient evaluations: 66\n",
      "         Hessian evaluations: 12\n",
      "Optimization terminated successfully.\n",
      "         Current function value: -0.067135\n",
      "         Iterations: 5\n",
      "         Function evaluations: 9\n",
      "         Gradient evaluations: 13\n",
      "         Hessian evaluations: 13\n"
     ]
    }
   ],
   "source": [
    "I_loss_cg = model.influence_loss(\n",
    "    X_test, y_test,\n",
    "    method='cg',\n",
    "    tol=1e-7, \n",
    "    max_iter=1000\n",
    ")"
   ]
  },
  {
   "cell_type": "markdown",
   "metadata": {},
   "source": [
    "## Run LOO"
   ]
  },
  {
   "cell_type": "code",
   "execution_count": 11,
   "metadata": {
    "scrolled": true
   },
   "outputs": [
    {
     "name": "stdout",
     "output_type": "stream",
     "text": [
      "LOO Fold 0: loss = 0.42400235 (0.018 sec)\n",
      "LOO Fold 8: loss = 0.41924122 (0.007 sec)\n",
      "LOO Fold 16: loss = 0.42120889 (0.003 sec)\n",
      "LOO Fold 24: loss = 0.41813612 (0.004 sec)\n",
      "LOO Fold 32: loss = 0.42299604 (0.004 sec)\n",
      "LOO Fold 40: loss = 0.42311153 (0.003 sec)\n",
      "LOO Fold 48: loss = 0.42221051 (0.003 sec)\n",
      "LOO Fold 56: loss = 0.42032817 (0.003 sec)\n",
      "LOO Fold 64: loss = 0.42256388 (0.004 sec)\n",
      "LOO Fold 72: loss = 0.42361739 (0.004 sec)\n"
     ]
    }
   ],
   "source": [
    "loo_diff = model.leave_one_out_refit(\n",
    "    X_test, y_test,\n",
    "    n_iter=loo_extra_iter,\n",
    "    iter_to_load=checkpoint_iter,\n",
    "    leave_indices=leave_indices,\n",
    "    sklearn_refit=True\n",
    ")"
   ]
  },
  {
   "cell_type": "markdown",
   "metadata": {},
   "source": [
    "## Compare LOO and I_loss"
   ]
  },
  {
   "cell_type": "code",
   "execution_count": 12,
   "metadata": {},
   "outputs": [
    {
     "data": {
      "image/png": "[encoded data removed]",
      "text/plain": [
       "<matplotlib.figure.Figure at 0x120a839b0>"
      ]
     },
     "metadata": {},
     "output_type": "display_data"
    }
   ],
   "source": [
    "fig, axes = compare_with_loo(\n",
    "    [I_loss_bf[:,:],\n",
    "     I_loss_cg[:,:]],\n",
    "    loo_diff, n_samples=n_tr\n",
    ")"
   ]
  },
  {
   "cell_type": "code",
   "execution_count": null,
   "metadata": {
    "collapsed": true
   },
   "outputs": [],
   "source": [
    "# leave_indices case\n",
    "a, b = loo_diff.shape\n",
    "for j in range(n_te):\n",
    "    print(\"Test Point %d Correlation: %.4f\" % (j, np.corrcoef(\n",
    "        I_loss_bf[leave_indices, j], loo_diff[:, j])[0][1]))\n",
    "print(\"Overall Correlation: %.4f\" % np.corrcoef(\n",
    "        I_loss_bf[leave_indices, :].reshape(a*b,),\n",
    "        loo_diff.reshape(a*b,))[0][1])"
   ]
  },
  {
   "cell_type": "code",
   "execution_count": 13,
   "metadata": {},
   "outputs": [
    {
     "name": "stdout",
     "output_type": "stream",
     "text": [
      "Test Point 0 Correlation: 0.9887\n",
      "Test Point 1 Correlation: 0.9882\n",
      "Test Point 2 Correlation: 0.9946\n",
      "Test Point 3 Correlation: 0.9905\n",
      "Test Point 4 Correlation: 0.9992\n",
      "Test Point 5 Correlation: 0.9934\n",
      "Test Point 6 Correlation: 0.9719\n",
      "Test Point 7 Correlation: 0.9747\n",
      "Test Point 8 Correlation: 0.9653\n",
      "Test Point 9 Correlation: 0.9720\n",
      "Test Point 10 Correlation: 0.9564\n",
      "Test Point 11 Correlation: 0.9778\n",
      "Test Point 12 Correlation: 0.9902\n",
      "Test Point 13 Correlation: 0.9909\n",
      "Test Point 14 Correlation: 0.9904\n",
      "Test Point 15 Correlation: 0.9781\n",
      "Test Point 16 Correlation: 0.9946\n",
      "Test Point 17 Correlation: 0.9959\n",
      "Test Point 18 Correlation: 0.9603\n",
      "Test Point 19 Correlation: 0.9706\n",
      "Overall Correlation: 0.9345\n"
     ]
    }
   ],
   "source": [
    "# without leave_indices case\n",
    "a, b = loo_diff.shape\n",
    "for j in range(n_te):\n",
    "    print(\"Test Point %d Correlation: %.4f\" % (j, np.corrcoef(\n",
    "        I_loss_cg[:, j], loo_diff[:, j])[0][1]))\n",
    "print(\"Overall Correlation: %.4f\" % np.corrcoef(\n",
    "        I_loss_cg[:, :].reshape(a*b,),\n",
    "        loo_diff.reshape(a*b,))[0][1])"
   ]
  },
  {
   "cell_type": "markdown",
   "metadata": {},
   "source": [
    "# Experiment 2-2: Binary Logistic Regression on MNIST"
   ]
  },
  {
   "cell_type": "code",
   "execution_count": 31,
   "metadata": {},
   "outputs": [
    {
     "name": "stdout",
     "output_type": "stream",
     "text": [
      "9075 784\n"
     ]
    }
   ],
   "source": [
    "X_train, X_test, y_train, y_test, test_indices = load_data(\n",
    "    Datafile.BinaryMNIST17, test_config=10)\n",
    "n_tr, p = X_train.shape\n",
    "n_te, _ = X_test.shape\n",
    "print(n_tr, p)\n",
    "\n",
    "init_eta = 1e-1\n",
    "batch_size = 30\n",
    "train_iter = 50000\n",
    "traceback_checkpoint = 45000\n",
    "loo_extra_iter = 5000\n",
    "decay_epochs = (10000, 20000)\n",
    "checkpoint_iter = traceback_checkpoint-1\n",
    "iter_to_switch_off_minibatch=35000\n",
    "iter_to_switch_to_sgd=np.inf\n",
    "# LOO a on random set of training indices, otherwise too slow\n",
    "leave_indices = np.random.choice(n_tr, size=150, replace=False)\n",
    "\n",
    "if hasattr(test_indices, '__iter__') and hasattr(leave_indices, '__iter__'):\n",
    "    assert not set(test_indices) & set(leave_indices)\n",
    "    print(test_indices)\n",
    "    print(leave_indices)"
   ]
  },
  {
   "cell_type": "code",
   "execution_count": 34,
   "metadata": {
    "collapsed": true
   },
   "outputs": [],
   "source": [
    "model = BinaryLogisticRegression(\n",
    "    model_name='BinaryLogistic-MNIST',\n",
    "    init_eta=init_eta,\n",
    "    decay_epochs=decay_epochs,\n",
    "    batch_size=batch_size,\n",
    "    C=10000.0\n",
    ")"
   ]
  },
  {
   "cell_type": "code",
   "execution_count": 35,
   "metadata": {},
   "outputs": [
    {
     "name": "stdout",
     "output_type": "stream",
     "text": [
      "\n",
      "Model Evaluations:\n",
      "------------------------------------------\n",
      "Empirical Risk: 0.006013\n",
      "Norm of Params: 0.061819\n",
      "Norm of Gradient: 0.068123\n"
     ]
    },
    {
     "data": {
      "text/plain": [
       "BinaryLogistic-MNIST(init_eta=0.1,batch_size=30,decay_epochs=(10000, 20000),C=10000.0)"
      ]
     },
     "execution_count": 35,
     "metadata": {},
     "output_type": "execute_result"
    }
   ],
   "source": [
    "tf.reset_default_graph()\n",
    "model.fit_with_sklearn({'X':X_train, 'y':y_train})"
   ]
  },
  {
   "cell_type": "code",
   "execution_count": 36,
   "metadata": {},
   "outputs": [
    {
     "name": "stdout",
     "output_type": "stream",
     "text": [
      "Train accuracy: 1.0\n",
      "Test accuracy: 1.0\n"
     ]
    }
   ],
   "source": [
    "y_pred = model.predict(X_train)\n",
    "print(\"Train accuracy:\", np.sum(y_pred == y_train)/n_tr)\n",
    "\n",
    "y_pred_test = model.predict(X_test)\n",
    "print(\"Test accuracy:\", np.sum(y_pred_test == y_test)/n_te)"
   ]
  },
  {
   "cell_type": "code",
   "execution_count": 37,
   "metadata": {},
   "outputs": [
    {
     "name": "stdout",
     "output_type": "stream",
     "text": [
      "Fetch training loss gradients (4.920 sec)\n"
     ]
    }
   ],
   "source": [
    "I_loss_bf = model.influence_loss(\n",
    "    X_test, y_test,\n",
    "    method='brute-force',\n",
    ")"
   ]
  },
  {
   "cell_type": "code",
   "execution_count": 38,
   "metadata": {},
   "outputs": [
    {
     "name": "stdout",
     "output_type": "stream",
     "text": [
      "Fetch training loss gradients (4.635 sec)\n",
      "Optimization terminated successfully.\n",
      "         Current function value: -0.001805\n",
      "         Iterations: 11\n",
      "         Function evaluations: 65\n",
      "         Gradient evaluations: 73\n",
      "         Hessian evaluations: 107\n",
      "Optimization terminated successfully.\n",
      "         Current function value: -0.002051\n",
      "         Iterations: 13\n",
      "         Function evaluations: 15\n",
      "         Gradient evaluations: 27\n",
      "         Hessian evaluations: 98\n",
      "Optimization terminated successfully.\n",
      "         Current function value: -0.001750\n",
      "         Iterations: 14\n",
      "         Function evaluations: 15\n",
      "         Gradient evaluations: 28\n",
      "         Hessian evaluations: 110\n",
      "Optimization terminated successfully.\n",
      "         Current function value: -0.001786\n",
      "         Iterations: 11\n",
      "         Function evaluations: 12\n",
      "         Gradient evaluations: 22\n",
      "         Hessian evaluations: 96\n",
      "Optimization terminated successfully.\n",
      "         Current function value: -0.001801\n",
      "         Iterations: 10\n",
      "         Function evaluations: 11\n",
      "         Gradient evaluations: 20\n",
      "         Hessian evaluations: 94\n",
      "Optimization terminated successfully.\n",
      "         Current function value: -0.001805\n",
      "         Iterations: 11\n",
      "         Function evaluations: 13\n",
      "         Gradient evaluations: 23\n",
      "         Hessian evaluations: 92\n",
      "Warning: Desired error not necessarily achieved due to precision loss.\n",
      "         Current function value: -0.001805\n",
      "         Iterations: 9\n",
      "         Function evaluations: 80\n",
      "         Gradient evaluations: 77\n",
      "         Hessian evaluations: 93\n",
      "Optimization terminated successfully.\n",
      "         Current function value: -0.001798\n",
      "         Iterations: 12\n",
      "         Function evaluations: 13\n",
      "         Gradient evaluations: 24\n",
      "         Hessian evaluations: 106\n",
      "Optimization terminated successfully.\n",
      "         Current function value: -0.001747\n",
      "         Iterations: 13\n",
      "         Function evaluations: 15\n",
      "         Gradient evaluations: 27\n",
      "         Hessian evaluations: 96\n",
      "Optimization terminated successfully.\n",
      "         Current function value: -0.001805\n",
      "         Iterations: 10\n",
      "         Function evaluations: 11\n",
      "         Gradient evaluations: 20\n",
      "         Hessian evaluations: 94\n"
     ]
    }
   ],
   "source": [
    "I_loss_cg = model.influence_loss(\n",
    "    X_test, y_test,\n",
    "    method='cg',\n",
    "    tol=1e-7, \n",
    "    max_iter=1000\n",
    ")\n",
    "# I_loss_bf[leave_indices,:]/n_tr"
   ]
  },
  {
   "cell_type": "code",
   "execution_count": 39,
   "metadata": {},
   "outputs": [
    {
     "name": "stdout",
     "output_type": "stream",
     "text": [
      "LOO Fold 0: loss = 0.00601333 (0.147 sec)\n",
      "LOO Fold 15: loss = 0.00601333 (0.101 sec)\n",
      "LOO Fold 30: loss = 0.00601331 (0.096 sec)\n",
      "LOO Fold 45: loss = 0.00601332 (0.096 sec)\n",
      "LOO Fold 60: loss = 0.00601330 (0.099 sec)\n",
      "LOO Fold 75: loss = 0.00601331 (0.095 sec)\n",
      "LOO Fold 90: loss = 0.00601331 (0.098 sec)\n",
      "LOO Fold 105: loss = 0.00601315 (0.207 sec)\n",
      "LOO Fold 120: loss = 0.00601332 (0.097 sec)\n",
      "LOO Fold 135: loss = 0.00601332 (0.090 sec)\n"
     ]
    }
   ],
   "source": [
    "loo_diff = model.leave_one_out_refit(\n",
    "    X_test, y_test,\n",
    "    n_iter=loo_extra_iter,\n",
    "    iter_to_load=checkpoint_iter,\n",
    "    leave_indices=leave_indices,\n",
    "    sklearn_refit=True\n",
    ")"
   ]
  },
  {
   "cell_type": "code",
   "execution_count": 40,
   "metadata": {},
   "outputs": [
    {
     "data": {
      "image/png": "[encoded data removed]",
      "text/plain": [
       "<matplotlib.figure.Figure at 0x13fc8cac8>"
      ]
     },
     "metadata": {},
     "output_type": "display_data"
    }
   ],
   "source": [
    "fig, axes = compare_with_loo(\n",
    "    [I_loss_bf[leave_indices,:],\n",
    "     I_loss_cg[leave_indices,:]],\n",
    "    loo_diff, n_samples=n_tr\n",
    ")"
   ]
  },
  {
   "cell_type": "code",
   "execution_count": null,
   "metadata": {
    "collapsed": true
   },
   "outputs": [],
   "source": [
    "# 终于特么做出来了"
   ]
  },
  {
   "cell_type": "code",
   "execution_count": 42,
   "metadata": {},
   "outputs": [
    {
     "name": "stdout",
     "output_type": "stream",
     "text": [
      "Test Point 0 Correlation: 0.9917\n",
      "Test Point 1 Correlation: 0.9876\n",
      "Test Point 2 Correlation: 0.9920\n",
      "Test Point 3 Correlation: 0.9914\n",
      "Test Point 4 Correlation: 0.9918\n",
      "Test Point 5 Correlation: 0.9917\n",
      "Test Point 6 Correlation: 0.9917\n",
      "Test Point 7 Correlation: 0.9918\n",
      "Test Point 8 Correlation: 0.9909\n",
      "Test Point 9 Correlation: 0.9917\n",
      "Overall Correlation: 0.9896\n"
     ]
    }
   ],
   "source": [
    "# leave_indices case\n",
    "a, b = loo_diff.shape\n",
    "for j in range(n_te):\n",
    "    print(\"Test Point %d Correlation: %.4f\" % (j, np.corrcoef(\n",
    "        I_loss_bf[leave_indices, j], loo_diff[:, j])[0][1]))\n",
    "print(\"Overall Correlation: %.4f\" % np.corrcoef(\n",
    "        I_loss_bf[leave_indices, :].reshape(a*b,),\n",
    "        loo_diff.reshape(a*b,))[0][1])"
   ]
  },
  {
   "cell_type": "code",
   "execution_count": null,
   "metadata": {
    "collapsed": true
   },
   "outputs": [],
   "source": []
  }
 ],
 "metadata": {
  "kernelspec": {
   "display_name": "Python 3",
   "language": "python",
   "name": "python3"
  },
  "language_info": {
   "codemirror_mode": {
    "name": "ipython",
    "version": 3
   },
   "file_extension": ".py",
   "mimetype": "text/x-python",
   "name": "python",
   "nbconvert_exporter": "python",
   "pygments_lexer": "ipython3",
   "version": "3.5.1"
  }
 },
 "nbformat": 4,
 "nbformat_minor": 2
}
