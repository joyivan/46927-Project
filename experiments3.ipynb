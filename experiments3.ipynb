{
 "cells": [
  {
   "cell_type": "markdown",
   "metadata": {},
   "source": [
    "# Experiment 3: Smoothed Support Vector Classifer on Iris Dataset"
   ]
  },
  {
   "cell_type": "code",
   "execution_count": 1,
   "metadata": {},
   "outputs": [
    {
     "name": "stderr",
     "output_type": "stream",
     "text": [
      "/Users/zed/anaconda/lib/python3.6/site-packages/h5py/__init__.py:34: FutureWarning: Conversion of the second argument of issubdtype from `float` to `np.floating` is deprecated. In future, it will be treated as `np.float64 == np.dtype(float).type`.\n",
      "  from ._conv import register_converters as _register_converters\n"
     ]
    }
   ],
   "source": [
    "import numpy as np\n",
    "import pandas as pd\n",
    "from sklearn.model_selection import train_test_split\n",
    "import matplotlib.pyplot as plt\n",
    "%matplotlib inline\n",
    "import tensorflow as tf\n",
    "\n",
    "from data import Datafile, load_data\n",
    "from influence.emp_risk_optimizer import EmpiricalRiskOptimizer\n",
    "from influence.plot_utils import compare_with_loo\n",
    "from influence.closed_forms import I_loss_RidgeCf\n",
    "from models.regularized_regression import RegularizedRegression\n",
    "from models.hyperplane_clf import BinaryLogisticRegression\n",
    "from models.hyperplane_clf import SmoothedSupportVector"
   ]
  },
  {
   "cell_type": "code",
   "execution_count": 3,
   "metadata": {},
   "outputs": [
    {
     "name": "stdout",
     "output_type": "stream",
     "text": [
      "98 4\n",
      "None\n"
     ]
    }
   ],
   "source": [
    "# [6, 47]\n",
    "X_train, X_test, y_train, y_test, test_indices = load_data(\n",
    "    Datafile.Iris, test_config=[6, 21])\n",
    "n_tr, p = X_train.shape\n",
    "n_te, _ = X_test.shape\n",
    "y_train[y_train==0]=-1 \n",
    "y_test[y_test==0]=-1\n",
    "print(n_tr, p)\n",
    "\n",
    "init_eta = 1e-2\n",
    "batch_size = 50\n",
    "train_iter = 50000\n",
    "traceback_checkpoint = 45000\n",
    "loo_extra_iter = 5000\n",
    "decay_epochs = (10000, 20000)\n",
    "checkpoint_iter = traceback_checkpoint-1\n",
    "iter_to_switch_off_minibatch=20000\n",
    "iter_to_switch_to_sgd=40000\n",
    "C = 1.0\n",
    "t = 0.01\n",
    "# LOO a on random set of training indices, otherwise too slow\n",
    "leave_indices = None\n",
    "#assert not set(test_indices) & set(leave_indices)\n",
    "#print(test_indices)\n",
    "print(leave_indices)"
   ]
  },
  {
   "cell_type": "code",
   "execution_count": 4,
   "metadata": {},
   "outputs": [
    {
     "name": "stdout",
     "output_type": "stream",
     "text": [
      "Step 0, Epoch 0: loss = 1.00000000 (0.197 sec)\n",
      "Step 1000, Epoch 510: loss = 0.34698674 (0.001 sec)\n",
      "Step 2000, Epoch 1020: loss = 0.28674164 (0.001 sec)\n",
      "Step 3000, Epoch 1530: loss = 0.32269084 (0.001 sec)\n",
      "Step 4000, Epoch 2040: loss = 0.24644172 (0.001 sec)\n",
      "Step 5000, Epoch 2551: loss = 0.28009471 (0.001 sec)\n",
      "Step 6000, Epoch 3061: loss = 0.24400076 (0.001 sec)\n",
      "Step 7000, Epoch 3571: loss = 0.30946013 (0.001 sec)\n",
      "Step 8000, Epoch 4081: loss = 0.27375609 (0.001 sec)\n",
      "Step 9000, Epoch 4591: loss = 0.23793460 (0.001 sec)\n",
      "Step 10000, Epoch 5102: loss = 0.26637039 (0.002 sec)\n",
      "Step 11000, Epoch 5612: loss = 0.28056857 (0.003 sec)\n",
      "Step 12000, Epoch 6122: loss = 0.39349738 (0.001 sec)\n",
      "Step 13000, Epoch 6632: loss = 0.31831551 (0.001 sec)\n",
      "Step 14000, Epoch 7142: loss = 0.30494842 (0.001 sec)\n",
      "Step 15000, Epoch 7653: loss = 0.31855905 (0.001 sec)\n",
      "Step 16000, Epoch 8163: loss = 0.36657158 (0.001 sec)\n",
      "Step 17000, Epoch 8673: loss = 0.24499670 (0.001 sec)\n",
      "Step 18000, Epoch 9183: loss = 0.34670943 (0.001 sec)\n",
      "Step 19000, Epoch 9693: loss = 0.32637218 (0.001 sec)\n",
      "Step 20000, Epoch 10204: loss = 0.28796026 (0.002 sec)\n",
      "Step 21000, Epoch 10714: loss = 0.28793496 (0.001 sec)\n",
      "Step 22000, Epoch 11224: loss = 0.28792983 (0.001 sec)\n",
      "Step 23000, Epoch 11734: loss = 0.28792799 (0.001 sec)\n",
      "Step 24000, Epoch 12244: loss = 0.28792715 (0.001 sec)\n",
      "Step 25000, Epoch 12755: loss = 0.28792697 (0.001 sec)\n",
      "Step 26000, Epoch 13265: loss = 0.28792697 (0.001 sec)\n",
      "Step 27000, Epoch 13775: loss = 0.28792697 (0.001 sec)\n",
      "Step 28000, Epoch 14285: loss = 0.28792694 (0.001 sec)\n",
      "Step 29000, Epoch 14795: loss = 0.28792694 (0.001 sec)\n",
      "Step 30000, Epoch 15306: loss = 0.28792748 (0.001 sec)\n",
      "Step 31000, Epoch 15816: loss = 0.28792697 (0.001 sec)\n",
      "Step 32000, Epoch 16326: loss = 0.28792694 (0.001 sec)\n",
      "Step 33000, Epoch 16836: loss = 0.28792706 (0.001 sec)\n",
      "Step 34000, Epoch 17346: loss = 0.28792712 (0.001 sec)\n",
      "Step 35000, Epoch 17857: loss = 0.28792691 (0.001 sec)\n",
      "Step 36000, Epoch 18367: loss = 0.28792697 (0.001 sec)\n",
      "Step 37000, Epoch 18877: loss = 0.28792691 (0.001 sec)\n",
      "Step 38000, Epoch 19387: loss = 0.28792691 (0.001 sec)\n",
      "Step 39000, Epoch 19897: loss = 0.28792688 (0.001 sec)\n",
      "Step 40000, Epoch 20408: loss = 0.28792694 (0.110 sec)\n",
      "Step 41000, Epoch 20918: loss = 0.28792694 (0.001 sec)\n",
      "Step 42000, Epoch 21428: loss = 0.28792694 (0.001 sec)\n",
      "Step 43000, Epoch 21938: loss = 0.28792694 (0.001 sec)\n",
      "Step 44000, Epoch 22448: loss = 0.28792694 (0.001 sec)\n",
      "Step 45000, Epoch 22959: loss = 0.28792694 (0.001 sec)\n",
      "Step 46000, Epoch 23469: loss = 0.28792694 (0.001 sec)\n",
      "Step 47000, Epoch 23979: loss = 0.28792694 (0.001 sec)\n",
      "Step 48000, Epoch 24489: loss = 0.28792694 (0.001 sec)\n",
      "Step 49000, Epoch 25000: loss = 0.28792694 (0.001 sec)\n"
     ]
    },
    {
     "data": {
      "text/plain": [
       "SmoothHinge-Notebook(init_eta=0.01,batch_size=50,decay_epochs=(10000, 20000),C=1.0,t=0.01)"
      ]
     },
     "execution_count": 4,
     "metadata": {},
     "output_type": "execute_result"
    }
   ],
   "source": [
    "tf.reset_default_graph()\n",
    "model = SmoothedSupportVector(\n",
    "    model_name='SmoothHinge-Notebook',\n",
    "    init_eta=init_eta,\n",
    "    decay_epochs=decay_epochs,\n",
    "    batch_size=batch_size,\n",
    "    C=C,\n",
    "    t=t\n",
    ")\n",
    "\n",
    "model.fit(\n",
    "    X_train, y_train,\n",
    "    n_iter=train_iter,\n",
    "    verbose=1,\n",
    "    iter_to_switch_off_minibatch=iter_to_switch_off_minibatch,\n",
    "    iter_to_switch_to_sgd=iter_to_switch_to_sgd,\n",
    "    traceback_checkpoint=traceback_checkpoint\n",
    ")"
   ]
  },
  {
   "cell_type": "code",
   "execution_count": 5,
   "metadata": {},
   "outputs": [
    {
     "name": "stdout",
     "output_type": "stream",
     "text": [
      "Train accuracy: 0.9489795918367347\n"
     ]
    }
   ],
   "source": [
    "y_pred = model.predict(X_train)\n",
    "print(\"Train accuracy:\", np.sum(y_pred == y_train)/n_tr)"
   ]
  },
  {
   "cell_type": "code",
   "execution_count": 6,
   "metadata": {},
   "outputs": [
    {
     "name": "stdout",
     "output_type": "stream",
     "text": [
      "Fetch training loss gradients (0.201 sec)\n"
     ]
    }
   ],
   "source": [
    "I_loss_bf = model.influence_loss(\n",
    "    X_test, y_test,\n",
    "    method='brute-force',\n",
    ")\n",
    "# I_loss_bf[leave_indices,:]/n_tr"
   ]
  },
  {
   "cell_type": "code",
   "execution_count": 7,
   "metadata": {},
   "outputs": [
    {
     "name": "stdout",
     "output_type": "stream",
     "text": [
      "Fetch training loss gradients (0.074 sec)\n",
      "Warning: Desired error not necessarily achieved due to precision loss.\n",
      "         Current function value: -0.968654\n",
      "         Iterations: 6\n",
      "         Function evaluations: 87\n",
      "         Gradient evaluations: 81\n",
      "         Hessian evaluations: 23\n",
      "Optimization terminated successfully.\n",
      "         Current function value: -0.016954\n",
      "         Iterations: 3\n",
      "         Function evaluations: 6\n",
      "         Gradient evaluations: 8\n",
      "         Hessian evaluations: 10\n"
     ]
    }
   ],
   "source": [
    "I_loss_cg = model.influence_loss(\n",
    "    X_test, y_test,\n",
    "    method='cg',\n",
    "    tol=1e-7, \n",
    "    max_iter=1000\n",
    ")"
   ]
  },
  {
   "cell_type": "code",
   "execution_count": 8,
   "metadata": {},
   "outputs": [
    {
     "name": "stdout",
     "output_type": "stream",
     "text": [
      "INFO:tensorflow:Restoring parameters from output/SmoothHinge-Notebook-checkpoint-44999\n",
      "LOO Fold 0: loss = 0.28993389 (5.254 sec)\n",
      "INFO:tensorflow:Restoring parameters from output/SmoothHinge-Notebook-checkpoint-44999\n",
      "INFO:tensorflow:Restoring parameters from output/SmoothHinge-Notebook-checkpoint-44999\n",
      "INFO:tensorflow:Restoring parameters from output/SmoothHinge-Notebook-checkpoint-44999\n",
      "INFO:tensorflow:Restoring parameters from output/SmoothHinge-Notebook-checkpoint-44999\n",
      "INFO:tensorflow:Restoring parameters from output/SmoothHinge-Notebook-checkpoint-44999\n",
      "INFO:tensorflow:Restoring parameters from output/SmoothHinge-Notebook-checkpoint-44999\n",
      "INFO:tensorflow:Restoring parameters from output/SmoothHinge-Notebook-checkpoint-44999\n",
      "INFO:tensorflow:Restoring parameters from output/SmoothHinge-Notebook-checkpoint-44999\n",
      "INFO:tensorflow:Restoring parameters from output/SmoothHinge-Notebook-checkpoint-44999\n",
      "LOO Fold 9: loss = 0.28942955 (5.591 sec)\n",
      "INFO:tensorflow:Restoring parameters from output/SmoothHinge-Notebook-checkpoint-44999\n",
      "INFO:tensorflow:Restoring parameters from output/SmoothHinge-Notebook-checkpoint-44999\n",
      "INFO:tensorflow:Restoring parameters from output/SmoothHinge-Notebook-checkpoint-44999\n",
      "INFO:tensorflow:Restoring parameters from output/SmoothHinge-Notebook-checkpoint-44999\n",
      "INFO:tensorflow:Restoring parameters from output/SmoothHinge-Notebook-checkpoint-44999\n",
      "INFO:tensorflow:Restoring parameters from output/SmoothHinge-Notebook-checkpoint-44999\n",
      "INFO:tensorflow:Restoring parameters from output/SmoothHinge-Notebook-checkpoint-44999\n",
      "INFO:tensorflow:Restoring parameters from output/SmoothHinge-Notebook-checkpoint-44999\n",
      "INFO:tensorflow:Restoring parameters from output/SmoothHinge-Notebook-checkpoint-44999\n",
      "LOO Fold 18: loss = 0.28993389 (4.305 sec)\n",
      "INFO:tensorflow:Restoring parameters from output/SmoothHinge-Notebook-checkpoint-44999\n",
      "INFO:tensorflow:Restoring parameters from output/SmoothHinge-Notebook-checkpoint-44999\n",
      "INFO:tensorflow:Restoring parameters from output/SmoothHinge-Notebook-checkpoint-44999\n",
      "INFO:tensorflow:Restoring parameters from output/SmoothHinge-Notebook-checkpoint-44999\n",
      "INFO:tensorflow:Restoring parameters from output/SmoothHinge-Notebook-checkpoint-44999\n",
      "INFO:tensorflow:Restoring parameters from output/SmoothHinge-Notebook-checkpoint-44999\n",
      "INFO:tensorflow:Restoring parameters from output/SmoothHinge-Notebook-checkpoint-44999\n",
      "INFO:tensorflow:Restoring parameters from output/SmoothHinge-Notebook-checkpoint-44999\n",
      "INFO:tensorflow:Restoring parameters from output/SmoothHinge-Notebook-checkpoint-44999\n",
      "LOO Fold 27: loss = 0.28993389 (3.014 sec)\n",
      "INFO:tensorflow:Restoring parameters from output/SmoothHinge-Notebook-checkpoint-44999\n",
      "INFO:tensorflow:Restoring parameters from output/SmoothHinge-Notebook-checkpoint-44999\n",
      "INFO:tensorflow:Restoring parameters from output/SmoothHinge-Notebook-checkpoint-44999\n",
      "INFO:tensorflow:Restoring parameters from output/SmoothHinge-Notebook-checkpoint-44999\n",
      "INFO:tensorflow:Restoring parameters from output/SmoothHinge-Notebook-checkpoint-44999\n",
      "INFO:tensorflow:Restoring parameters from output/SmoothHinge-Notebook-checkpoint-44999\n",
      "INFO:tensorflow:Restoring parameters from output/SmoothHinge-Notebook-checkpoint-44999\n",
      "INFO:tensorflow:Restoring parameters from output/SmoothHinge-Notebook-checkpoint-44999\n",
      "INFO:tensorflow:Restoring parameters from output/SmoothHinge-Notebook-checkpoint-44999\n",
      "LOO Fold 36: loss = 0.28993395 (3.277 sec)\n",
      "INFO:tensorflow:Restoring parameters from output/SmoothHinge-Notebook-checkpoint-44999\n",
      "INFO:tensorflow:Restoring parameters from output/SmoothHinge-Notebook-checkpoint-44999\n",
      "INFO:tensorflow:Restoring parameters from output/SmoothHinge-Notebook-checkpoint-44999\n",
      "INFO:tensorflow:Restoring parameters from output/SmoothHinge-Notebook-checkpoint-44999\n",
      "INFO:tensorflow:Restoring parameters from output/SmoothHinge-Notebook-checkpoint-44999\n",
      "INFO:tensorflow:Restoring parameters from output/SmoothHinge-Notebook-checkpoint-44999\n",
      "INFO:tensorflow:Restoring parameters from output/SmoothHinge-Notebook-checkpoint-44999\n",
      "INFO:tensorflow:Restoring parameters from output/SmoothHinge-Notebook-checkpoint-44999\n",
      "INFO:tensorflow:Restoring parameters from output/SmoothHinge-Notebook-checkpoint-44999\n",
      "LOO Fold 45: loss = 0.28993389 (5.645 sec)\n",
      "INFO:tensorflow:Restoring parameters from output/SmoothHinge-Notebook-checkpoint-44999\n",
      "INFO:tensorflow:Restoring parameters from output/SmoothHinge-Notebook-checkpoint-44999\n",
      "INFO:tensorflow:Restoring parameters from output/SmoothHinge-Notebook-checkpoint-44999\n",
      "INFO:tensorflow:Restoring parameters from output/SmoothHinge-Notebook-checkpoint-44999\n",
      "INFO:tensorflow:Restoring parameters from output/SmoothHinge-Notebook-checkpoint-44999\n",
      "INFO:tensorflow:Restoring parameters from output/SmoothHinge-Notebook-checkpoint-44999\n",
      "INFO:tensorflow:Restoring parameters from output/SmoothHinge-Notebook-checkpoint-44999\n",
      "INFO:tensorflow:Restoring parameters from output/SmoothHinge-Notebook-checkpoint-44999\n",
      "INFO:tensorflow:Restoring parameters from output/SmoothHinge-Notebook-checkpoint-44999\n",
      "LOO Fold 54: loss = 0.28993389 (5.040 sec)\n",
      "INFO:tensorflow:Restoring parameters from output/SmoothHinge-Notebook-checkpoint-44999\n",
      "INFO:tensorflow:Restoring parameters from output/SmoothHinge-Notebook-checkpoint-44999\n",
      "INFO:tensorflow:Restoring parameters from output/SmoothHinge-Notebook-checkpoint-44999\n",
      "INFO:tensorflow:Restoring parameters from output/SmoothHinge-Notebook-checkpoint-44999\n",
      "INFO:tensorflow:Restoring parameters from output/SmoothHinge-Notebook-checkpoint-44999\n",
      "INFO:tensorflow:Restoring parameters from output/SmoothHinge-Notebook-checkpoint-44999\n",
      "INFO:tensorflow:Restoring parameters from output/SmoothHinge-Notebook-checkpoint-44999\n",
      "INFO:tensorflow:Restoring parameters from output/SmoothHinge-Notebook-checkpoint-44999\n",
      "INFO:tensorflow:Restoring parameters from output/SmoothHinge-Notebook-checkpoint-44999\n",
      "LOO Fold 63: loss = 0.28993389 (3.543 sec)\n",
      "INFO:tensorflow:Restoring parameters from output/SmoothHinge-Notebook-checkpoint-44999\n",
      "INFO:tensorflow:Restoring parameters from output/SmoothHinge-Notebook-checkpoint-44999\n",
      "INFO:tensorflow:Restoring parameters from output/SmoothHinge-Notebook-checkpoint-44999\n",
      "INFO:tensorflow:Restoring parameters from output/SmoothHinge-Notebook-checkpoint-44999\n",
      "INFO:tensorflow:Restoring parameters from output/SmoothHinge-Notebook-checkpoint-44999\n",
      "INFO:tensorflow:Restoring parameters from output/SmoothHinge-Notebook-checkpoint-44999\n",
      "INFO:tensorflow:Restoring parameters from output/SmoothHinge-Notebook-checkpoint-44999\n",
      "INFO:tensorflow:Restoring parameters from output/SmoothHinge-Notebook-checkpoint-44999\n",
      "INFO:tensorflow:Restoring parameters from output/SmoothHinge-Notebook-checkpoint-44999\n",
      "LOO Fold 72: loss = 0.28993389 (3.177 sec)\n",
      "INFO:tensorflow:Restoring parameters from output/SmoothHinge-Notebook-checkpoint-44999\n",
      "INFO:tensorflow:Restoring parameters from output/SmoothHinge-Notebook-checkpoint-44999\n",
      "INFO:tensorflow:Restoring parameters from output/SmoothHinge-Notebook-checkpoint-44999\n",
      "INFO:tensorflow:Restoring parameters from output/SmoothHinge-Notebook-checkpoint-44999\n",
      "INFO:tensorflow:Restoring parameters from output/SmoothHinge-Notebook-checkpoint-44999\n",
      "INFO:tensorflow:Restoring parameters from output/SmoothHinge-Notebook-checkpoint-44999\n",
      "INFO:tensorflow:Restoring parameters from output/SmoothHinge-Notebook-checkpoint-44999\n",
      "INFO:tensorflow:Restoring parameters from output/SmoothHinge-Notebook-checkpoint-44999\n",
      "INFO:tensorflow:Restoring parameters from output/SmoothHinge-Notebook-checkpoint-44999\n",
      "LOO Fold 81: loss = 0.27972889 (5.000 sec)\n",
      "INFO:tensorflow:Restoring parameters from output/SmoothHinge-Notebook-checkpoint-44999\n",
      "INFO:tensorflow:Restoring parameters from output/SmoothHinge-Notebook-checkpoint-44999\n",
      "INFO:tensorflow:Restoring parameters from output/SmoothHinge-Notebook-checkpoint-44999\n",
      "INFO:tensorflow:Restoring parameters from output/SmoothHinge-Notebook-checkpoint-44999\n",
      "INFO:tensorflow:Restoring parameters from output/SmoothHinge-Notebook-checkpoint-44999\n",
      "INFO:tensorflow:Restoring parameters from output/SmoothHinge-Notebook-checkpoint-44999\n",
      "INFO:tensorflow:Restoring parameters from output/SmoothHinge-Notebook-checkpoint-44999\n",
      "INFO:tensorflow:Restoring parameters from output/SmoothHinge-Notebook-checkpoint-44999\n"
     ]
    },
    {
     "name": "stdout",
     "output_type": "stream",
     "text": [
      "INFO:tensorflow:Restoring parameters from output/SmoothHinge-Notebook-checkpoint-44999\n",
      "LOO Fold 90: loss = 0.28993389 (3.077 sec)\n",
      "INFO:tensorflow:Restoring parameters from output/SmoothHinge-Notebook-checkpoint-44999\n",
      "INFO:tensorflow:Restoring parameters from output/SmoothHinge-Notebook-checkpoint-44999\n",
      "INFO:tensorflow:Restoring parameters from output/SmoothHinge-Notebook-checkpoint-44999\n",
      "INFO:tensorflow:Restoring parameters from output/SmoothHinge-Notebook-checkpoint-44999\n",
      "INFO:tensorflow:Restoring parameters from output/SmoothHinge-Notebook-checkpoint-44999\n",
      "INFO:tensorflow:Restoring parameters from output/SmoothHinge-Notebook-checkpoint-44999\n",
      "INFO:tensorflow:Restoring parameters from output/SmoothHinge-Notebook-checkpoint-44999\n",
      "INFO:tensorflow:Restoring parameters from output/SmoothHinge-Notebook-checkpoint-44999\n"
     ]
    }
   ],
   "source": [
    "loo_diff = model.leave_one_out_refit(\n",
    "    X_test, y_test,\n",
    "    n_iter=loo_extra_iter,\n",
    "    iter_to_load=checkpoint_iter,\n",
    "    leave_indices=leave_indices,\n",
    ")"
   ]
  },
  {
   "cell_type": "code",
   "execution_count": 9,
   "metadata": {},
   "outputs": [
    {
     "name": "stdout",
     "output_type": "stream",
     "text": [
      "None\n",
      "[[[-6.85630100e-04  3.45998881e-04]\n",
      "  [-6.85630100e-04  3.45998881e-04]\n",
      "  [-6.85630100e-04  3.45998881e-04]\n",
      "  [ 4.58593271e-03 -1.19009736e-03]\n",
      "  [ 3.24995360e-03 -7.32155175e-04]\n",
      "  [ 1.59304239e-02 -9.17921261e-04]\n",
      "  [-6.85630100e-04  3.45998881e-04]\n",
      "  [-6.85630100e-04  3.45998881e-04]\n",
      "  [ 1.49435863e-02 -4.90065740e-05]\n",
      "  [ 3.50311581e-03 -2.16734835e-03]\n",
      "  [-6.84915757e-04  3.45942545e-04]\n",
      "  [-6.85630100e-04  3.45998881e-04]\n",
      "  [ 1.44466004e-02 -1.15412291e-03]\n",
      "  [-6.85630100e-04  3.45998881e-04]\n",
      "  [-6.85630100e-04  3.45998881e-04]\n",
      "  [ 1.91763056e-02  4.02227956e-04]\n",
      "  [-6.85630100e-04  3.45998881e-04]\n",
      "  [-4.28636950e-03 -1.16956356e-03]\n",
      "  [-6.85630100e-04  3.45998881e-04]\n",
      "  [ 1.88779028e-02  1.67638063e-03]\n",
      "  [ 2.94797396e-03 -7.72631898e-04]\n",
      "  [ 1.42537246e-02 -2.19429269e-03]\n",
      "  [-6.85630100e-04  3.45998881e-04]\n",
      "  [-6.85630100e-04  3.45998881e-04]\n",
      "  [-6.85630100e-04  3.45998881e-04]\n",
      "  [ 9.39603728e-03 -7.02556299e-04]\n",
      "  [ 1.36155571e-02 -6.98629691e-04]\n",
      "  [-6.85630100e-04  3.45998881e-04]\n",
      "  [-6.85630100e-04  3.45998881e-04]\n",
      "  [-6.85630100e-04  3.45998881e-04]\n",
      "  [-6.85630100e-04  3.45998881e-04]\n",
      "  [ 9.45066068e-03  9.26841278e-04]\n",
      "  [ 2.07934793e-02  9.58771122e-04]\n",
      "  [ 1.12378427e-02  7.09790965e-05]\n",
      "  [-6.85630100e-04  3.45998881e-04]\n",
      "  [-8.19001879e-04 -2.70399208e-03]\n",
      "  [-6.85630100e-04  3.45998881e-04]\n",
      "  [ 9.23871994e-03 -1.21455716e-03]\n",
      "  [ 1.37366154e-02 -1.04806070e-03]\n",
      "  [ 1.64967070e-02 -1.34331170e-03]\n",
      "  [-6.85630100e-04  3.45998881e-04]\n",
      "  [-6.85630100e-04  3.45998881e-04]\n",
      "  [ 1.36148029e-02 -1.16134176e-03]\n",
      "  [-6.85630100e-04  3.45998881e-04]\n",
      "  [-6.85616339e-04  3.45997512e-04]\n",
      "  [-6.85630100e-04  3.45998881e-04]\n",
      "  [-6.85630100e-04  3.45998881e-04]\n",
      "  [-6.85629948e-04  3.45998881e-04]\n",
      "  [-6.85630100e-04  3.45998881e-04]\n",
      "  [-6.85630100e-04  3.45998881e-04]\n",
      "  [-6.85630100e-04  3.45998881e-04]\n",
      "  [-6.85630100e-04  3.45998881e-04]\n",
      "  [-6.85630100e-04  3.45998881e-04]\n",
      "  [-6.85630100e-04  3.45998881e-04]\n",
      "  [-6.85630100e-04  3.45998881e-04]\n",
      "  [-6.85636334e-04  3.45998729e-04]\n",
      "  [-6.85630100e-04  3.45998881e-04]\n",
      "  [-6.85630100e-04  3.45998881e-04]\n",
      "  [-1.39799605e-02 -9.15009148e-04]\n",
      "  [-6.85665832e-04  3.45986489e-04]\n",
      "  [-3.86897642e-03 -5.28634507e-04]\n",
      "  [-6.85630100e-04  3.45998881e-04]\n",
      "  [-6.85630100e-04  3.45998881e-04]\n",
      "  [-6.85630100e-04  3.45998881e-04]\n",
      "  [-1.26064262e-02 -5.85025671e-04]\n",
      "  [-7.12887517e-04  3.43546727e-04]\n",
      "  [-6.85630100e-04  3.45998881e-04]\n",
      "  [-3.17960369e-05  4.15147567e-04]\n",
      "  [-6.85630100e-04  3.45998881e-04]\n",
      "  [-6.85630100e-04  3.45998881e-04]\n",
      "  [-6.85630100e-04  3.45998881e-04]\n",
      "  [-5.64878328e-03 -1.10416388e-04]\n",
      "  [-6.86140845e-04  3.45918065e-04]\n",
      "  [-1.29287973e-02  4.97470097e-04]\n",
      "  [-8.51782731e-03 -1.98486508e-04]\n",
      "  [-1.42451403e-02 -6.30271070e-04]\n",
      "  [-6.85630100e-04  3.45998881e-04]\n",
      "  [-9.95962352e-03  1.89529511e-03]\n",
      "  [-8.00030268e-04  3.33557932e-04]\n",
      "  [-2.00752871e-02  7.40518375e-04]\n",
      "  [-6.85630100e-04  3.45998881e-04]\n",
      "  [-1.18302958e-02  1.14537319e-03]\n",
      "  [-6.96788333e-04  3.45852530e-04]\n",
      "  [-6.85630100e-04  3.45998881e-04]\n",
      "  [-6.85630100e-04  3.45998881e-04]\n",
      "  [-1.57414018e-02 -8.51067961e-04]\n",
      "  [-1.47877883e-02 -7.30569874e-04]\n",
      "  [-8.10927761e-03 -8.81241292e-04]\n",
      "  [-6.85630100e-04  3.45998881e-04]\n",
      "  [-5.09596358e-03 -1.41365917e-03]\n",
      "  [-6.85630100e-04  3.45998881e-04]\n",
      "  [-6.85630100e-04  3.45998881e-04]\n",
      "  [-6.85630100e-04  3.45998881e-04]\n",
      "  [-7.01273430e-04  3.36115382e-04]\n",
      "  [-3.55827565e-04 -3.93747675e-04]\n",
      "  [-9.59311213e-03 -1.11744234e-03]\n",
      "  [-6.85630100e-04  3.45998881e-04]\n",
      "  [-1.63937965e-02 -1.54271418e-03]]]\n",
      "[[-6.80863857e-04  3.44939530e-04]\n",
      " [-6.80863857e-04  3.44939530e-04]\n",
      " [-6.80863857e-04  3.44939530e-04]\n",
      " [ 6.03953004e-03 -1.61293894e-03]\n",
      " [ 1.22444481e-02 -3.10657173e-03]\n",
      " [ 2.02281773e-02 -8.99940729e-04]\n",
      " [-6.80863857e-04  3.44939530e-04]\n",
      " [-6.80863857e-04  3.44939530e-04]\n",
      " [ 2.03783512e-02 -1.39258802e-04]\n",
      " [ 8.66103172e-03 -3.60935926e-03]\n",
      " [-6.61030412e-04  3.44917178e-04]\n",
      " [-6.80863857e-04  3.44939530e-04]\n",
      " [ 1.72895789e-02 -1.23454630e-03]\n",
      " [-6.80863857e-04  3.44939530e-04]\n",
      " [-6.80863857e-04  3.44939530e-04]\n",
      " [ 3.86661887e-02  1.28172338e-04]\n",
      " [-6.80863857e-04  3.44939530e-04]\n",
      " [-5.93960285e-05 -2.30880827e-03]\n",
      " [-6.80863857e-04  3.44939530e-04]\n",
      " [ 4.82713282e-02  1.45034492e-03]\n",
      " [ 4.28366661e-03 -9.59843397e-04]\n",
      " [ 1.81932151e-02 -2.22294033e-03]\n",
      " [-6.80863857e-04  3.44939530e-04]\n",
      " [-6.80863857e-04  3.44939530e-04]\n",
      " [-6.80863857e-04  3.44939530e-04]\n",
      " [ 1.04402006e-02 -9.06020403e-04]\n",
      " [ 1.63253844e-02 -8.22395086e-04]\n",
      " [-6.80863857e-04  3.44939530e-04]\n",
      " [-6.80863857e-04  3.44939530e-04]\n",
      " [-6.80863857e-04  3.44939530e-04]\n",
      " [-6.80863857e-04  3.44939530e-04]\n",
      " [ 1.13746226e-02  1.27742440e-03]\n",
      " [ 5.09607941e-02  5.56573272e-04]\n",
      " [ 7.01443851e-02 -9.41745937e-04]\n",
      " [-6.80863857e-04  3.44939530e-04]\n",
      " [ 1.35276616e-02 -6.12701476e-03]\n",
      " [-6.80863857e-04  3.44939530e-04]\n",
      " [ 1.05634332e-02 -1.50522590e-03]\n",
      " [ 1.63242221e-02 -8.65444541e-04]\n",
      " [ 2.20157057e-02 -1.56763196e-03]\n",
      " [-6.80863857e-04  3.44939530e-04]\n",
      " [-6.80863857e-04  3.44939530e-04]\n",
      " [ 1.62100643e-02 -1.31367892e-03]\n",
      " [-6.80863857e-04  3.44939530e-04]\n",
      " [-6.80863857e-04  3.44939530e-04]\n",
      " [-6.80863857e-04  3.44939530e-04]\n",
      " [-6.80863857e-04  3.44939530e-04]\n",
      " [-6.80863857e-04  3.44939530e-04]\n",
      " [-6.80863857e-04  3.44939530e-04]\n",
      " [-6.80863857e-04  3.44939530e-04]\n",
      " [-6.80863857e-04  3.44939530e-04]\n",
      " [-6.80863857e-04  3.44939530e-04]\n",
      " [-6.80863857e-04  3.44939530e-04]\n",
      " [-6.80863857e-04  3.44939530e-04]\n",
      " [-6.80863857e-04  3.44939530e-04]\n",
      " [-5.81637025e-04  3.45081091e-04]\n",
      " [-6.80863857e-04  3.44939530e-04]\n",
      " [-6.80863857e-04  3.44939530e-04]\n",
      " [-1.98817402e-02 -8.69177282e-04]\n",
      " [-6.74977899e-04  3.44917178e-04]\n",
      " [-6.10981882e-03 -1.15451217e-03]\n",
      " [-6.80863857e-04  3.44939530e-04]\n",
      " [-6.80863857e-04  3.44939530e-04]\n",
      " [-6.80863857e-04  3.44939530e-04]\n",
      " [-1.19834989e-02 -4.85792756e-04]\n",
      " [-7.10427761e-04  3.42823565e-04]\n",
      " [-6.80863857e-04  3.44939530e-04]\n",
      " [ 1.18127465e-03  3.42503190e-04]\n",
      " [-6.80863857e-04  3.44939530e-04]\n",
      " [-6.80863857e-04  3.44939530e-04]\n",
      " [-6.80863857e-04  3.44939530e-04]\n",
      " [-5.92687726e-03 -1.51798129e-04]\n",
      " [-6.63191080e-04  3.44887376e-04]\n",
      " [-1.06356293e-02  4.89503145e-04]\n",
      " [-9.28962231e-03 -2.18436122e-04]\n",
      " [-1.88829303e-02 -5.60812652e-04]\n",
      " [-6.80863857e-04  3.44939530e-04]\n",
      " [-6.87266886e-03  1.59399211e-03]\n",
      " [-5.40375710e-04  2.73048878e-04]\n",
      " [-2.30660811e-02  8.62613320e-04]\n",
      " [-6.80863857e-04  3.44939530e-04]\n",
      " [-1.04614794e-02  1.04553998e-03]\n",
      " [-7.17759132e-04  3.44708562e-04]\n",
      " [-6.80863857e-04  3.44939530e-04]\n",
      " [-6.80863857e-04  3.44939530e-04]\n",
      " [-1.55805945e-02 -6.32777810e-04]\n",
      " [-2.08538771e-02 -6.38574362e-04]\n",
      " [-8.94239545e-03 -9.83543694e-04]\n",
      " [-6.80863857e-04  3.44939530e-04]\n",
      " [-4.04892862e-03 -7.03945756e-04]\n",
      " [-6.80863857e-04  3.44939530e-04]\n",
      " [-6.80863857e-04  3.44939530e-04]\n",
      " [-6.80863857e-04  3.44939530e-04]\n",
      " [-6.93172216e-04  3.37123871e-04]\n",
      " [-3.33145261e-04 -8.13677907e-04]\n",
      " [-1.11183822e-02 -1.23856217e-03]\n",
      " [-6.80863857e-04  3.44939530e-04]\n",
      " [-1.86226591e-02 -1.31578743e-03]]\n"
     ]
    }
   ],
   "source": [
    "print(leave_indices)\n",
    "print(I_loss_bf[leave_indices,:]/n_tr)\n",
    "print(loo_diff)"
   ]
  },
  {
   "cell_type": "code",
   "execution_count": 10,
   "metadata": {},
   "outputs": [
    {
     "data": {
      "image/png": "[encoded data removed]",
      "text/plain": [
       "<matplotlib.figure.Figure at 0x121f5d780>"
      ]
     },
     "metadata": {},
     "output_type": "display_data"
    }
   ],
   "source": [
    "fig, axes = compare_with_loo(\n",
    "    [I_loss_bf[:,0:1],\n",
    "     I_loss_cg[:,0:1]],\n",
    "    loo_diff, n_samples=n_tr\n",
    ")"
   ]
  },
  {
   "cell_type": "code",
   "execution_count": 11,
   "metadata": {},
   "outputs": [
    {
     "data": {
      "image/png": "[encoded data removed]",
      "text/plain": [
       "<matplotlib.figure.Figure at 0x1228f6c18>"
      ]
     },
     "metadata": {},
     "output_type": "display_data"
    }
   ],
   "source": [
    "fig, axes = compare_with_loo(\n",
    "    [I_loss_bf[:,1:2],\n",
    "     I_loss_cg[:,1:2]],\n",
    "    loo_diff, n_samples=n_tr\n",
    ")"
   ]
  },
  {
   "cell_type": "code",
   "execution_count": 11,
   "metadata": {},
   "outputs": [
    {
     "data": {
      "image/png": "[encoded data removed]",
      "text/plain": [
       "<matplotlib.figure.Figure at 0x127fdf320>"
      ]
     },
     "metadata": {},
     "output_type": "display_data"
    }
   ],
   "source": [
    "fig, axes = compare_with_loo(\n",
    "    [I_loss_bf,\n",
    "     I_loss_cg],\n",
    "    loo_diff, n_samples=n_tr\n",
    ")"
   ]
  },
  {
   "cell_type": "code",
   "execution_count": 12,
   "metadata": {},
   "outputs": [
    {
     "name": "stdout",
     "output_type": "stream",
     "text": [
      "Test Point 0 Correlation: 0.8705\n",
      "Test Point 1 Correlation: 0.9103\n",
      "Overall Correlation: 0.8654\n"
     ]
    }
   ],
   "source": [
    "a, b = loo_diff.shape\n",
    "for j in range(n_te):\n",
    "    print(\"Test Point %d Correlation: %.4f\" % (j, np.corrcoef(\n",
    "        I_loss_cg[:, j], loo_diff[:, j])[0][1]))\n",
    "print(\"Overall Correlation: %.4f\" % np.corrcoef(\n",
    "        I_loss_cg[:, :].reshape(a*b,),\n",
    "        loo_diff.reshape(a*b,))[0][1])"
   ]
  },
  {
   "cell_type": "code",
   "execution_count": null,
   "metadata": {
    "collapsed": true
   },
   "outputs": [],
   "source": []
  }
 ],
 "metadata": {
  "kernelspec": {
   "display_name": "Python 3",
   "language": "python",
   "name": "python3"
  },
  "language_info": {
   "codemirror_mode": {
    "name": "ipython",
    "version": 3
   },
   "file_extension": ".py",
   "mimetype": "text/x-python",
   "name": "python",
   "nbconvert_exporter": "python",
   "pygments_lexer": "ipython3",
   "version": "3.6.4"
  }
 },
 "nbformat": 4,
 "nbformat_minor": 2
}
