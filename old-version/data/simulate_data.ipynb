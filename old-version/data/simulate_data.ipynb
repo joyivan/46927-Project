{
 "cells": [
  {
   "cell_type": "code",
   "execution_count": 2,
   "metadata": {},
   "outputs": [],
   "source": [
    "import pandas as pd\n",
    "import numpy as np\n",
    "import matplotlib.pyplot as plt"
   ]
  },
  {
   "cell_type": "markdown",
   "metadata": {},
   "source": [
    "## Linear Regression"
   ]
  },
  {
   "cell_type": "code",
   "execution_count": 4,
   "metadata": {},
   "outputs": [],
   "source": [
    "X = np.random.normal(size=(100, 10))\n",
    "eps = np.random.normal(size=(100, 1))\n",
    "beta = np.array([2, 1, 1, 0, 3, 5, 2, 0, 10, 1]).reshape(10,1)\n",
    "y = X.dot(beta) + 1*eps"
   ]
  },
  {
   "cell_type": "code",
   "execution_count": 13,
   "metadata": {
    "collapsed": true
   },
   "outputs": [],
   "source": [
    "df = pd.DataFrame(np.column_stack((X,y)))\n",
    "df.columns=['X1','X2','X3','X4','X5','X6','X7','X8','X9','X10','y']"
   ]
  },
  {
   "cell_type": "code",
   "execution_count": 16,
   "metadata": {
    "collapsed": true
   },
   "outputs": [],
   "source": [
    "df.to_csv('lm_10.csv', index=0)"
   ]
  },
  {
   "cell_type": "markdown",
   "metadata": {},
   "source": [
    "## Hyperplane"
   ]
  },
  {
   "cell_type": "code",
   "execution_count": 34,
   "metadata": {},
   "outputs": [],
   "source": [
    "X2 = np.random.normal(size=(100, 2))\n",
    "beta = np.array([2, 1]).reshape(2,1)\n",
    "eps = np.random.normal(size=(100, 1))*0.5\n",
    "y2 = (X2.dot(beta)+2*eps > 0.5)*1"
   ]
  },
  {
   "cell_type": "code",
   "execution_count": 36,
   "metadata": {},
   "outputs": [],
   "source": [
    "df = pd.DataFrame(np.column_stack((X2,y2)))\n",
    "df.columns=['X1','X2','y']\n",
    "df.to_csv('hyperplane_2.csv', index=0)"
   ]
  },
  {
   "cell_type": "code",
   "execution_count": 37,
   "metadata": {},
   "outputs": [
    {
     "data": {
      "text/plain": [
       "<matplotlib.collections.PathCollection at 0xe09d741cc0>"
      ]
     },
     "execution_count": 37,
     "metadata": {},
     "output_type": "execute_result"
    },
    {
     "data": {
      "image/png": "[encoded data removed]",
      "text/plain": [
       "<Figure size 432x288 with 1 Axes>"
      ]
     },
     "metadata": {},
     "output_type": "display_data"
    }
   ],
   "source": [
    "plt.scatter(X2[:,0], X2[:,1], c=y2[:,0])"
   ]
  },
  {
   "cell_type": "markdown",
   "metadata": {},
   "source": [
    "## MINST"
   ]
  },
  {
   "cell_type": "code",
   "execution_count": 17,
   "metadata": {
    "collapsed": true
   },
   "outputs": [],
   "source": [
    "x_014 = pd.read_csv('x_014_tr.csv', index_col = 0)\n",
    "y_014 = pd.read_csv('y_014_tr.csv', index_col = 0)"
   ]
  },
  {
   "cell_type": "code",
   "execution_count": 20,
   "metadata": {
    "collapsed": true
   },
   "outputs": [],
   "source": [
    "df = pd.DataFrame(np.column_stack((x_014,y_014)))\n",
    "data_14 = df[(df.iloc[:,256] == 1.0) | (df.iloc[:,256] == 4.0) ]\n",
    "data_14 = pd.DataFrame(np.column_stack((data_14, data_14[256].map({4.0: 1, 1.0: -1}))))\n",
    "data_14.to_csv('digits_14.csv',index=0)"
   ]
  },
  {
   "cell_type": "code",
   "execution_count": 183,
   "metadata": {},
   "outputs": [],
   "source": [
    "x_014 = pd.read_csv('x_014_tr.csv', index_col = 0)\n",
    "y_014 = pd.read_csv('y_014_tr.csv', index_col = 0)\n",
    "\n",
    "df = pd.DataFrame(np.column_stack((x_014,y_014)))\n",
    "data_04 = df[(df.iloc[:,256] == 0.0) | (df.iloc[:,256] == 4.0) ]\n",
    "data_04.loc[data_04.loc[:,256] == 0.0]\n",
    "data_04 = pd.DataFrame(np.column_stack((data_04, data_04[256].map({4.0: 1, 0.0: -1}))))\n",
    "data_04 = data_04.iloc[1:100]\n",
    "data_04.to_csv('digit_04.csv')"
   ]
  },
  {
   "cell_type": "code",
   "execution_count": 47,
   "metadata": {
    "collapsed": true
   },
   "outputs": [],
   "source": [
    "import gzip\n",
    "import numpy as np\n",
    "\n",
    "from tensorflow.contrib.learn.python.learn.datasets import base\n",
    "\n",
    "def _read32(bytestream):\n",
    "    dt = np.dtype(np.uint32).newbyteorder('>')\n",
    "    return np.frombuffer(bytestream.read(4), dtype=dt)[0]\n",
    "\n",
    "\n",
    "def extract_images(f):\n",
    "    \"\"\"Extract the images into a 4D uint8 np array [index, y, x, depth].\n",
    "    Args:\n",
    "    f: A file object that can be passed into a gzip reader.\n",
    "    Returns:\n",
    "    data: A 4D unit8 np array [index, y, x, depth].\n",
    "    Raises:\n",
    "    ValueError: If the bytestream does not start with 2051.\n",
    "    \"\"\"\n",
    "    print('Extracting', f.name)\n",
    "    with gzip.GzipFile(fileobj=f) as bytestream:\n",
    "        magic = _read32(bytestream)\n",
    "        if magic != 2051:\n",
    "          raise ValueError('Invalid magic number %d in MNIST image file: %s' %\n",
    "                           (magic, f.name))\n",
    "        num_images = _read32(bytestream)\n",
    "        rows = _read32(bytestream)\n",
    "        cols = _read32(bytestream)\n",
    "        buf = bytestream.read(rows * cols * num_images)\n",
    "        data = np.frombuffer(buf, dtype=np.uint8)\n",
    "        data = data.reshape(num_images, rows, cols, 1)\n",
    "        return data\n",
    "\n",
    "\n",
    "def extract_labels(f, one_hot=False, num_classes=10):\n",
    "    \"\"\"Extract the labels into a 1D uint8 np array [index].\n",
    "    Args:\n",
    "    f: A file object that can be passed into a gzip reader.\n",
    "    one_hot: Does one hot encoding for the result.\n",
    "    num_classes: Number of classes for the one hot encoding.\n",
    "    Returns:\n",
    "    labels: a 1D unit8 np array.\n",
    "    Raises:\n",
    "    ValueError: If the bystream doesn't start with 2049.\n",
    "    \"\"\"\n",
    "    print('Extracting', f.name)\n",
    "    with gzip.GzipFile(fileobj=f) as bytestream:\n",
    "        magic = _read32(bytestream)\n",
    "        if magic != 2049:\n",
    "          raise ValueError('Invalid magic number %d in MNIST label file: %s' %\n",
    "                           (magic, f.name))\n",
    "        num_items = _read32(bytestream)\n",
    "        buf = bytestream.read(num_items)\n",
    "        labels = np.frombuffer(buf, dtype=np.uint8)\n",
    "        if one_hot:\n",
    "          return dense_to_one_hot(labels, num_classes)\n",
    "        return labels\n",
    "\n",
    "\n",
    "def load_mnist(train_dir, validation_size=5000):\n",
    "\n",
    "    SOURCE_URL = 'http://yann.lecun.com/exdb/mnist/'\n",
    "\n",
    "    TRAIN_IMAGES = 'train-images-idx3-ubyte.gz'\n",
    "    TRAIN_LABELS = 'train-labels-idx1-ubyte.gz'\n",
    "    TEST_IMAGES = 't10k-images-idx3-ubyte.gz'\n",
    "    TEST_LABELS = 't10k-labels-idx1-ubyte.gz'\n",
    "\n",
    "    local_file = base.maybe_download(TRAIN_IMAGES, train_dir,\n",
    "                                   SOURCE_URL + TRAIN_IMAGES)\n",
    "    with open(local_file, 'rb') as f:\n",
    "        train_images = extract_images(f)\n",
    "\n",
    "    local_file = base.maybe_download(TRAIN_LABELS, train_dir,\n",
    "                                   SOURCE_URL + TRAIN_LABELS)\n",
    "    with open(local_file, 'rb') as f:\n",
    "        train_labels = extract_labels(f)\n",
    "\n",
    "    local_file = base.maybe_download(TEST_IMAGES, train_dir,\n",
    "                                   SOURCE_URL + TEST_IMAGES)\n",
    "    with open(local_file, 'rb') as f:\n",
    "        test_images = extract_images(f)\n",
    "\n",
    "    local_file = base.maybe_download(TEST_LABELS, train_dir,\n",
    "                                   SOURCE_URL + TEST_LABELS)\n",
    "    with open(local_file, 'rb') as f:\n",
    "        test_labels = extract_labels(f)\n",
    "\n",
    "    if not 0 <= validation_size <= len(train_images):\n",
    "        raise ValueError(\n",
    "            'Validation size should be between 0 and {}. Received: {}.'\n",
    "            .format(len(train_images), validation_size))\n",
    "\n",
    "    validation_images = train_images[:validation_size]\n",
    "    validation_labels = train_labels[:validation_size]\n",
    "    train_images = train_images[validation_size:]\n",
    "    train_labels = train_labels[validation_size:]\n",
    "\n",
    "    train_images = train_images.astype(np.float32) / 255\n",
    "    validation_images = validation_images.astype(np.float32) / 255\n",
    "    test_images = test_images.astype(np.float32) / 255\n",
    "\n",
    "    return [train_images, train_labels, validation_images, validation_labels]\n"
   ]
  },
  {
   "cell_type": "code",
   "execution_count": 103,
   "metadata": {},
   "outputs": [
    {
     "name": "stdout",
     "output_type": "stream",
     "text": [
      "Extracting C:/Users/ReasonLiu/Desktop/CMU/Statistical and Machine Learning II/Project/46927-Project/data/1_7\\train-images-idx3-ubyte.gz\n",
      "Extracting C:/Users/ReasonLiu/Desktop/CMU/Statistical and Machine Learning II/Project/46927-Project/data/1_7\\train-labels-idx1-ubyte.gz\n",
      "Extracting C:/Users/ReasonLiu/Desktop/CMU/Statistical and Machine Learning II/Project/46927-Project/data/1_7\\t10k-images-idx3-ubyte.gz\n",
      "Extracting C:/Users/ReasonLiu/Desktop/CMU/Statistical and Machine Learning II/Project/46927-Project/data/1_7\\t10k-labels-idx1-ubyte.gz\n"
     ]
    }
   ],
   "source": [
    "[train_images, train_labels, validation_images, validation_labels] = load_mnist('C:/Users/ReasonLiu/Desktop/CMU/Statistical and Machine Learning II/Project/46927-Project/data/1_7')"
   ]
  }
 ],
 "metadata": {
  "kernelspec": {
   "display_name": "Python 3",
   "language": "python",
   "name": "python3"
  },
  "language_info": {
   "codemirror_mode": {
    "name": "ipython",
    "version": 3
   },
   "file_extension": ".py",
   "mimetype": "text/x-python",
   "name": "python",
   "nbconvert_exporter": "python",
   "pygments_lexer": "ipython3",
   "version": "3.5.1"
  }
 },
 "nbformat": 4,
 "nbformat_minor": 2
}
